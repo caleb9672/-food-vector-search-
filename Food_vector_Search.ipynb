{
  "cells": [
    {
      "cell_type": "markdown",
      "source": [
        "# FOOD VECTOR SEARCH"
      ],
      "metadata": {
        "id": "ZRup8ZBXdLTY"
      }
    },
    {
      "cell_type": "code",
      "source": [
        "!pip install PyPDF2\n",
        "!pip install chromadb"
      ],
      "metadata": {
        "id": "Rt0vG87ie4AC"
      },
      "execution_count": null,
      "outputs": []
    },
    {
      "cell_type": "markdown",
      "metadata": {
        "id": "0vDoMmsqvWe-"
      },
      "source": [
        "# 1 -  Recommandation based on user query"
      ]
    },
    {
      "cell_type": "markdown",
      "metadata": {
        "id": "5IRsokIrvc2C"
      },
      "source": [
        "### Importation des modules"
      ]
    },
    {
      "cell_type": "code",
      "source": [
        "# Implémentation de la fonction de récupérer des clés d'api : huggingface_api et gemini_api\n",
        "from google.colab import userdata\n",
        "huggingface_api = userdata.get('huggingface')\n",
        "gemini_api = userdata.get('GOOGLE_API_KEY')"
      ],
      "metadata": {
        "id": "Cy0oR3Jm8PbO"
      },
      "execution_count": null,
      "outputs": []
    },
    {
      "cell_type": "code",
      "execution_count": null,
      "metadata": {
        "id": "Wtt3jNycvnBc"
      },
      "outputs": [],
      "source": [
        "import chromadb\n",
        "import huggingface_hub\n",
        "from huggingface_hub import InferenceClient\n",
        "import PyPDF2\n",
        "import os\n",
        "import re\n",
        "import json"
      ]
    },
    {
      "cell_type": "markdown",
      "metadata": {
        "id": "_2pNgTKtwTS8"
      },
      "source": [
        "### Importation des données"
      ]
    },
    {
      "cell_type": "code",
      "execution_count": null,
      "metadata": {
        "id": "zzFs5ddqTVs1"
      },
      "outputs": [],
      "source": [
        "from foodDataSet import foodItems"
      ]
    },
    {
      "cell_type": "markdown",
      "source": [
        "### Création des clients et de la BD"
      ],
      "metadata": {
        "id": "j5u8j78ChwnY"
      }
    },
    {
      "cell_type": "code",
      "source": [
        "chroma_client = chromadb.Client()\n",
        "hf_client_emb = InferenceClient(\n",
        "    \"sentence-transformers/all-MiniLM-L6-v2\",\n",
        "    token=huggingface_api,\n",
        ")"
      ],
      "metadata": {
        "id": "AJI6qQU7hvkJ"
      },
      "execution_count": null,
      "outputs": []
    },
    {
      "cell_type": "code",
      "execution_count": null,
      "metadata": {
        "id": "eviphmiMwWNq"
      },
      "outputs": [],
      "source": [
        "collectionName = \"food_collection\""
      ]
    },
    {
      "cell_type": "code",
      "execution_count": null,
      "metadata": {
        "id": "6LpfLrrNy68u"
      },
      "outputs": [],
      "source": [
        "# fonction de génération des embeddings\n",
        "def generateEmbeddings(texts):\n",
        "  texts_embeddings = hf_client_emb.feature_extraction(texts)\n",
        "  return texts_embeddings"
      ]
    },
    {
      "cell_type": "markdown",
      "metadata": {
        "id": "koAefwyQKY8E"
      },
      "source": [
        "### Développer la fonction du critère de recherche"
      ]
    },
    {
      "cell_type": "markdown",
      "metadata": {
        "id": "UKClrDKnKoB4"
      },
      "source": [
        "#### Avec Gemini"
      ]
    },
    {
      "cell_type": "code",
      "execution_count": null,
      "metadata": {
        "id": "_N_IkQ_SGo92"
      },
      "outputs": [],
      "source": [
        "import google.generativeai as genai\n",
        "\n",
        "genai.configure(api_key=gemini_api)\n",
        "model = genai.GenerativeModel('gemini-pro')\n"
      ]
    },
    {
      "cell_type": "code",
      "source": [
        "# recherche de critère avec l'api de gemini\n",
        "def extractFilterCriteria_gemini(query):\n",
        "\n",
        "  labels = [\"vegan\", \"non-vegan\", \"vegetarian\", \"non-vegetarian\", \"pescatarian\", \"omnivore\", \"paleo\", \"ketogenic\", \"chinese\", \"indian\", \"japanese\", \"autre\"]\n",
        "\n",
        "\n",
        "  prompt = f\"\"\"\n",
        "    You are a powerful AI trained to classify text into one of the following categories.\n",
        "    Here are the categories: {labels}.\n",
        "\n",
        "    Your task is to determine which category best fits the following text.\n",
        "\n",
        "    Text: \"{query}\"\n",
        "\n",
        "    Please respond with one of the categories listed above that best describes the text.\n",
        "\n",
        "    \"\"\"\n",
        "\n",
        "  response = model.generate_content(prompt)\n",
        "\n",
        "  return response.text\n",
        "\n",
        "\n",
        "extractFilterCriteria_gemini(\"I want to eat Chocolate\")"
      ],
      "metadata": {
        "id": "mndKk3SCiBaU"
      },
      "execution_count": null,
      "outputs": []
    },
    {
      "cell_type": "markdown",
      "metadata": {
        "id": "lfwxg2yWKtA8"
      },
      "source": [
        "#### Avec Facebook Bart (open-source)"
      ]
    },
    {
      "cell_type": "code",
      "source": [
        "from transformers import pipeline\n",
        "\n",
        "# Créer un pipeline pour la classification de texte\n",
        "classifier = pipeline(\"zero-shot-classification\", model=\"facebook/bart-large-mnli\")"
      ],
      "metadata": {
        "id": "LCqj_FokiEGj"
      },
      "execution_count": null,
      "outputs": []
    },
    {
      "cell_type": "code",
      "source": [
        "# Fonction pour classer le texte\n",
        "def classifyText(text, labels):\n",
        "    result = classifier(text, candidate_labels=labels)\n",
        "    return result\n",
        "\n",
        "# fonction de filtrage de critère\n",
        "def extractFilterCriteria(query):\n",
        "\n",
        "  criteria = {\n",
        "      \"diet\":[], \"cuisine\":[]\n",
        "  }\n",
        "  dietlabels = [\"vegan\", \"non-vegan\", \"vegetarian\", \"non-vegetarian\", \"pescatarian\", \"omnivore\", \"paleo\", \"ketogenic\"]\n",
        "  cuisineLabels = [\"chinese\", \"indian\", \"japanese\"]\n",
        "\n",
        "  dietResult = classifyText(query, dietlabels)\n",
        "  print(dietResult)\n",
        "  highestDietScoreLabel = dietResult[\"labels\"][0]\n",
        "  dietScore = dietResult['scores'][0]\n",
        "\n",
        "  if dietScore > 0.8:\n",
        "    criteria[\"diet\"].append(highestDietScoreLabel)\n",
        "  else:\n",
        "    cuisineResult = classifyText(query, cuisineLabels)\n",
        "    print(cuisineResult)\n",
        "    highestCuisineScoreLabel = cuisineResult[\"labels\"][0]\n",
        "    cuisineScore = cuisineResult['scores'][0]\n",
        "\n",
        "    if cuisineScore > 0.8:\n",
        "      criteria[\"cuisine\"].append(highestCuisineScoreLabel)\n",
        "\n",
        "  print('Extracted Filter Criteria:', criteria)\n",
        "\n",
        "  return criteria\n",
        "\n",
        "extractFilterCriteria(\"j'aime les repas de l'asie de l'Est\")"
      ],
      "metadata": {
        "id": "rTzvyyl7iHCj"
      },
      "execution_count": null,
      "outputs": []
    },
    {
      "cell_type": "markdown",
      "metadata": {
        "id": "JNzcnnrFLA1b"
      },
      "source": [
        "### Recherche de similarité (interrogation)"
      ]
    },
    {
      "cell_type": "code",
      "execution_count": null,
      "metadata": {
        "id": "kMykQpviK_pE"
      },
      "outputs": [],
      "source": [
        "def performSimilaritySearch(collection, queryTerm):\n",
        "\n",
        "  try:\n",
        "\n",
        "    query_embedding = generateEmbeddings([queryTerm])\n",
        "\n",
        "    results = collection.query(\n",
        "        query_embeddings= query_embedding,\n",
        "        n_results= 5,\n",
        "    )\n",
        "\n",
        "    if len(results) == 0:\n",
        "      return \"Auun document trouvé\"\n",
        "    else:\n",
        "\n",
        "      top_foodItems = [\n",
        "          {\n",
        "              'ids': [food_id for food_id in results['ids'][0]],\n",
        "              'distances': [distance for distance in results['distances'][0]],\n",
        "              'food_names': [food_name['food_name'] for food_name in results['metadatas'][0]]\n",
        "          }\n",
        "          for index, id in enumerate(results['ids'][0])\n",
        "      ]\n",
        "\n",
        "    return top_foodItems\n",
        "\n",
        "  except Exception as e:\n",
        "    print(\"Exception:\", e)\n"
      ]
    },
    {
      "cell_type": "markdown",
      "metadata": {
        "id": "zDdD5qvfLGBL"
      },
      "source": [
        "### Fonction principale"
      ]
    },
    {
      "cell_type": "code",
      "execution_count": null,
      "metadata": {
        "id": "q5beFDTXSnCS"
      },
      "outputs": [],
      "source": [
        "def main(collection_name, query):\n",
        "\n",
        "  try:\n",
        "\n",
        "    collection = chroma_client.get_or_create_collection(name=collection_name)\n",
        "    print(\"Collection created or retrieved successfully!\")\n",
        "\n",
        "    uniqueIds = [f\"{food['food_id']}_{i}\" for i, food in enumerate(foodItems)]\n",
        "    foodTexts = [\n",
        "      f\"{food['food_name']}. {food['food_description']}. Ingredients: {', '.join(food['food_ingredients'])}\"\n",
        "      for food in foodItems\n",
        "    ]\n",
        "    embeddingsData = generateEmbeddings(foodTexts)\n",
        "    metadata = [\n",
        "      {\n",
        "        'food_name': food['food_name']\n",
        "      } for food in foodItems\n",
        "    ]\n",
        "\n",
        "    # ajouter le ids, documents et embeddings à la collection\n",
        "    collection.add(\n",
        "        ids = uniqueIds,\n",
        "        documents = foodTexts,\n",
        "        metadatas = metadata,\n",
        "        embeddings= embeddingsData\n",
        "    )\n",
        "\n",
        "    #filterCriteria = extractFilterCriteria_gemini(query)\n",
        "    #print(filterCriteria)\n",
        "    initialResults = performSimilaritySearch(collection, query)\n",
        "\n",
        "\n",
        "    for index, item in enumerate(initialResults[0][\"food_names\"]):\n",
        "      print(f\"Top {index + 1} Recommended Food Name: {item}\")\n",
        "\n",
        "  except Exception as e:\n",
        "\n",
        "    print(\"Exception:\", e)"
      ]
    },
    {
      "cell_type": "code",
      "source": [
        "# Exécution de la fonction principale\n",
        "query = \"egg, butter and rice\"\n",
        "main(collectionName, query)"
      ],
      "metadata": {
        "id": "oTT_L6CNiwXQ"
      },
      "execution_count": null,
      "outputs": []
    },
    {
      "cell_type": "code",
      "source": [
        "# Supprimer la collection\n",
        "chroma_client.delete_collection(collectionName)"
      ],
      "metadata": {
        "id": "L2cC4hdEi9vz"
      },
      "execution_count": null,
      "outputs": []
    },
    {
      "cell_type": "markdown",
      "metadata": {
        "id": "PDJOxwjMfRnh"
      },
      "source": [
        "# 2 -  Food recommendations from a PDF recipe"
      ]
    },
    {
      "cell_type": "markdown",
      "metadata": {
        "id": "-Xd0EzOb8Rc8"
      },
      "source": [
        "### Uploader les données"
      ]
    },
    {
      "cell_type": "code",
      "source": [
        "!wget https://cf-courses-data.s3.us.cloud-object-storage.appdomain.cloud/HoMe0o66TlJJ-WrIcR_8HQ/Chocolate-torte-Recipe.pdf"
      ],
      "metadata": {
        "id": "h72Fc5SPiVQj"
      },
      "execution_count": null,
      "outputs": []
    },
    {
      "cell_type": "code",
      "source": [
        "!wget https://cf-courses-data.s3.us.cloud-object-storage.appdomain.cloud/GvUxpXUD-oy1h5z-qKoVFg/crumble-pie.pdf"
      ],
      "metadata": {
        "id": "biXrzk_NiXYz"
      },
      "execution_count": null,
      "outputs": []
    },
    {
      "cell_type": "code",
      "execution_count": null,
      "metadata": {
        "id": "CQh5lM7CfUEs"
      },
      "outputs": [],
      "source": [
        "collectionName = \"recipe_food\""
      ]
    },
    {
      "cell_type": "code",
      "execution_count": null,
      "metadata": {
        "id": "OoBUKsv9fUGe"
      },
      "outputs": [],
      "source": [
        "from PyPDF2 import PdfReader\n",
        "\n",
        "def extractTextFromPDF(filepath):\n",
        "\n",
        "  # Ouvrir le fichier PDF\n",
        "  reader = PdfReader(filepath)\n",
        "\n",
        "  # Obtenir le nombre de pages\n",
        "  number_of_pages = len(reader.pages)\n",
        "\n",
        "  # Extraire le texte de toutes les pages\n",
        "  text = \"\"\n",
        "  for page_num in range(number_of_pages):\n",
        "      page = reader.pages[page_num]\n",
        "      text += page.extract_text()\n",
        "\n",
        "  # Afficher le texte\n",
        "  text = text.replace(\"\\n\", \" \").replace(\"  \", \" \")\n",
        "\n",
        "  return text\n",
        "#text = extractTextFromPDF(\"crumble-pie.pdf\")"
      ]
    },
    {
      "cell_type": "code",
      "source": [
        "def promptUserInput(query):\n",
        "  path = str(input(\"Entrer le chemin du fichier : \"))\n",
        "  return path"
      ],
      "metadata": {
        "id": "z68Ii6yklR_8"
      },
      "execution_count": null,
      "outputs": []
    },
    {
      "cell_type": "code",
      "source": [
        "import ast\n",
        "\n",
        "def extractIngredients_gemini(text):\n",
        "\n",
        "\n",
        "  prompt = f\"\"\"\n",
        "\n",
        "    Act as an expert in text processing and structured data extraction. Your task is to extract\n",
        "    only the ingredients from the following recipe text while maintaining without their quantities\n",
        "    and units.  Remove any quantities !!!,  Return the list in a structured format\n",
        "\n",
        "    Here is the text:{text}\n",
        "\n",
        "    Return the result as a python list where each ingredient is a separate item !\n",
        "    The result must be only a list like : ['first ingredient', 'second ingredient', ...] !!!\n",
        "\n",
        "    \"\"\"\n",
        "\n",
        "  response = model.generate_content(prompt)\n",
        "\n",
        "  liste_ingredients = ast.literal_eval(response.text)\n",
        "\n",
        "  ingredients = list(set(liste_ingredients))\n",
        "\n",
        "  return ingredients\n",
        "\n",
        "#extractFilterCriteria_gemini(text)"
      ],
      "metadata": {
        "id": "7ogGLjmodP0N"
      },
      "execution_count": null,
      "outputs": []
    },
    {
      "cell_type": "code",
      "source": [
        "def storeEmbeddingsInChromaDB(foodItems):\n",
        "\n",
        "  foodEmbeddings = []\n",
        "  metadatas = [\n",
        "      {\n",
        "        'food_name': food['food_name']\n",
        "      } for food in foodItems\n",
        "    ]\n",
        "\n",
        "  for item in foodItems:\n",
        "    texte = \" \".join(item[\"food_ingredients\"])\n",
        "\n",
        "    embedding = generateEmbeddings(texte)\n",
        "\n",
        "    foodEmbeddings.append(embedding)\n",
        "\n",
        "  ids = [f\"{food['food_id']}_{i}\" for i, food in enumerate(foodItems)]\n",
        "\n",
        "  foodTexts = [\n",
        "      f\"Ingredients: {', '.join(food['food_ingredients'])}\"\n",
        "      for food in foodItems\n",
        "    ]\n",
        "\n",
        "  try:\n",
        "\n",
        "    collection = chroma_client.get_or_create_collection(name=collectionName)\n",
        "    print(\"ok\")\n",
        "\n",
        "    collection.add(\n",
        "        ids = ids,\n",
        "        documents = foodTexts,\n",
        "        metadatas = metadatas,\n",
        "        embeddings= foodEmbeddings\n",
        "    )\n",
        "    print(\"Embeddings stocker dans chromaDB \")\n",
        "\n",
        "  except Exception as e:\n",
        "    print(\"Exception store :\", e)\n",
        "\n",
        "  return collection"
      ],
      "metadata": {
        "id": "Wx8FvBHWlSC0"
      },
      "execution_count": null,
      "outputs": []
    },
    {
      "cell_type": "code",
      "source": [
        "def main():\n",
        "\n",
        "  try:\n",
        "\n",
        "    collection = storeEmbeddingsInChromaDB(foodItems)\n",
        "    print(collection)\n",
        "    #filepath = promptUserInput(query)\n",
        "    text = extractTextFromPDF('Chocolate-torte-Recipe.pdf')\n",
        "    ingredients = extractIngredients_gemini(text)\n",
        "\n",
        "    if len(ingredients) > 0:\n",
        "\n",
        "      print(\"Ingredients extraient : \", ingredients)\n",
        "\n",
        "      recipeEmbedding = generateEmbeddings(\" \".join(str(ingredient) for ingredient in ingredients))\n",
        "\n",
        "      results = collection.query(\n",
        "          query_embeddings= [recipeEmbedding],\n",
        "          n_results= 5,\n",
        "      )\n",
        "\n",
        "      if len(results) == 0:\n",
        "        return \"Auun document trouvé\"\n",
        "      else:\n",
        "\n",
        "        top_foodItems = [\n",
        "            {\n",
        "                'ids': [food_id for food_id in results['ids'][0]],\n",
        "                'distances': [distance for distance in results['distances'][0]],\n",
        "                'food_names': [food_name['food_name'] for food_name in results['metadatas'][0]]\n",
        "            }\n",
        "            for index, id in enumerate(results['ids'][0])\n",
        "        ]\n",
        "        print(top_foodItems)\n",
        "        if top_foodItems:\n",
        "          for index, item in enumerate(top_foodItems[0][\"food_names\"]):\n",
        "            print(f\"Top {index + 1} Recommended Food Name: {item}\")\n",
        "        else:\n",
        "          print(\"Aucun résultat trouvé.\")\n",
        "\n",
        "    else:\n",
        "      print(\"Aucun ingrédient trouvé\")\n",
        "\n",
        "  except Exception as e:\n",
        "\n",
        "    print(\"Exception main \", e)"
      ],
      "metadata": {
        "id": "aJqFLZO1pHyg"
      },
      "execution_count": null,
      "outputs": []
    },
    {
      "cell_type": "code",
      "source": [
        "# Exécution de la fonction principale\n",
        "main()"
      ],
      "metadata": {
        "id": "GFN4wGRYipkb"
      },
      "execution_count": null,
      "outputs": []
    },
    {
      "cell_type": "code",
      "source": [
        "# supprimer la collection\n",
        "chroma_client.delete_collection(collectionName)"
      ],
      "metadata": {
        "id": "rSFhZG-oG7QB"
      },
      "execution_count": null,
      "outputs": []
    }
  ],
  "metadata": {
    "colab": {
      "provenance": []
    },
    "kernelspec": {
      "display_name": "Python 3",
      "name": "python3"
    },
    "language_info": {
      "name": "python"
    }
  },
  "nbformat": 4,
  "nbformat_minor": 0
}