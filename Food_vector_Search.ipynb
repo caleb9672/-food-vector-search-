{
  "cells": [
    {
      "cell_type": "markdown",
      "source": [
        "# FOOD VECTOR SEARCH"
      ],
      "metadata": {
        "id": "ZRup8ZBXdLTY"
      }
    },
    {
      "cell_type": "code",
      "execution_count": null,
      "metadata": {
        "colab": {
          "base_uri": "https://localhost:8080/",
          "height": 1000
        },
        "collapsed": true,
        "id": "ziyP059ou8f7",
        "outputId": "df68445c-713a-4e2b-9ea0-8f1fe97440b8"
      },
      "outputs": [
        {
          "output_type": "stream",
          "name": "stdout",
          "text": [
            "Collecting PyPDF2\n",
            "  Downloading pypdf2-3.0.1-py3-none-any.whl.metadata (6.8 kB)\n",
            "Downloading pypdf2-3.0.1-py3-none-any.whl (232 kB)\n",
            "\u001b[2K   \u001b[90m━━━━━━━━━━━━━━━━━━━━━━━━━━━━━━━━━━━━━━━━\u001b[0m \u001b[32m232.6/232.6 kB\u001b[0m \u001b[31m4.5 MB/s\u001b[0m eta \u001b[36m0:00:00\u001b[0m\n",
            "\u001b[?25hInstalling collected packages: PyPDF2\n",
            "Successfully installed PyPDF2-3.0.1\n",
            "Collecting chromadb\n",
            "  Downloading chromadb-0.6.3-py3-none-any.whl.metadata (6.8 kB)\n",
            "Collecting build>=1.0.3 (from chromadb)\n",
            "  Downloading build-1.2.2.post1-py3-none-any.whl.metadata (6.5 kB)\n",
            "Requirement already satisfied: pydantic>=1.9 in /usr/local/lib/python3.11/dist-packages (from chromadb) (2.10.6)\n",
            "Collecting chroma-hnswlib==0.7.6 (from chromadb)\n",
            "  Downloading chroma_hnswlib-0.7.6-cp311-cp311-manylinux_2_17_x86_64.manylinux2014_x86_64.whl.metadata (252 bytes)\n",
            "Collecting fastapi>=0.95.2 (from chromadb)\n",
            "  Downloading fastapi-0.115.8-py3-none-any.whl.metadata (27 kB)\n",
            "Collecting uvicorn>=0.18.3 (from uvicorn[standard]>=0.18.3->chromadb)\n",
            "  Downloading uvicorn-0.34.0-py3-none-any.whl.metadata (6.5 kB)\n",
            "Requirement already satisfied: numpy>=1.22.5 in /usr/local/lib/python3.11/dist-packages (from chromadb) (1.26.4)\n",
            "Collecting posthog>=2.4.0 (from chromadb)\n",
            "  Downloading posthog-3.11.0-py2.py3-none-any.whl.metadata (2.9 kB)\n",
            "Requirement already satisfied: typing_extensions>=4.5.0 in /usr/local/lib/python3.11/dist-packages (from chromadb) (4.12.2)\n",
            "Collecting onnxruntime>=1.14.1 (from chromadb)\n",
            "  Downloading onnxruntime-1.20.1-cp311-cp311-manylinux_2_27_x86_64.manylinux_2_28_x86_64.whl.metadata (4.5 kB)\n",
            "Requirement already satisfied: opentelemetry-api>=1.2.0 in /usr/local/lib/python3.11/dist-packages (from chromadb) (1.16.0)\n",
            "Collecting opentelemetry-exporter-otlp-proto-grpc>=1.2.0 (from chromadb)\n",
            "  Downloading opentelemetry_exporter_otlp_proto_grpc-1.30.0-py3-none-any.whl.metadata (2.4 kB)\n",
            "Collecting opentelemetry-instrumentation-fastapi>=0.41b0 (from chromadb)\n",
            "  Downloading opentelemetry_instrumentation_fastapi-0.51b0-py3-none-any.whl.metadata (2.2 kB)\n",
            "Requirement already satisfied: opentelemetry-sdk>=1.2.0 in /usr/local/lib/python3.11/dist-packages (from chromadb) (1.16.0)\n",
            "Requirement already satisfied: tokenizers>=0.13.2 in /usr/local/lib/python3.11/dist-packages (from chromadb) (0.21.0)\n",
            "Collecting pypika>=0.48.9 (from chromadb)\n",
            "  Downloading PyPika-0.48.9.tar.gz (67 kB)\n",
            "\u001b[2K     \u001b[90m━━━━━━━━━━━━━━━━━━━━━━━━━━━━━━━━━━━━━━━━\u001b[0m \u001b[32m67.3/67.3 kB\u001b[0m \u001b[31m2.9 MB/s\u001b[0m eta \u001b[36m0:00:00\u001b[0m\n",
            "\u001b[?25h  Installing build dependencies ... \u001b[?25l\u001b[?25hdone\n",
            "  Getting requirements to build wheel ... \u001b[?25l\u001b[?25hdone\n",
            "  Preparing metadata (pyproject.toml) ... \u001b[?25l\u001b[?25hdone\n",
            "Requirement already satisfied: tqdm>=4.65.0 in /usr/local/lib/python3.11/dist-packages (from chromadb) (4.67.1)\n",
            "Collecting overrides>=7.3.1 (from chromadb)\n",
            "  Downloading overrides-7.7.0-py3-none-any.whl.metadata (5.8 kB)\n",
            "Requirement already satisfied: importlib-resources in /usr/local/lib/python3.11/dist-packages (from chromadb) (6.5.2)\n",
            "Requirement already satisfied: grpcio>=1.58.0 in /usr/local/lib/python3.11/dist-packages (from chromadb) (1.70.0)\n",
            "Collecting bcrypt>=4.0.1 (from chromadb)\n",
            "  Downloading bcrypt-4.2.1-cp39-abi3-manylinux_2_28_x86_64.whl.metadata (9.8 kB)\n",
            "Requirement already satisfied: typer>=0.9.0 in /usr/local/lib/python3.11/dist-packages (from chromadb) (0.15.1)\n",
            "Collecting kubernetes>=28.1.0 (from chromadb)\n",
            "  Downloading kubernetes-32.0.0-py2.py3-none-any.whl.metadata (1.5 kB)\n",
            "Requirement already satisfied: tenacity>=8.2.3 in /usr/local/lib/python3.11/dist-packages (from chromadb) (9.0.0)\n",
            "Requirement already satisfied: PyYAML>=6.0.0 in /usr/local/lib/python3.11/dist-packages (from chromadb) (6.0.2)\n",
            "Collecting mmh3>=4.0.1 (from chromadb)\n",
            "  Downloading mmh3-5.1.0-cp311-cp311-manylinux_2_5_x86_64.manylinux1_x86_64.manylinux_2_17_x86_64.manylinux2014_x86_64.whl.metadata (16 kB)\n",
            "Requirement already satisfied: orjson>=3.9.12 in /usr/local/lib/python3.11/dist-packages (from chromadb) (3.10.15)\n",
            "Requirement already satisfied: httpx>=0.27.0 in /usr/local/lib/python3.11/dist-packages (from chromadb) (0.28.1)\n",
            "Requirement already satisfied: rich>=10.11.0 in /usr/local/lib/python3.11/dist-packages (from chromadb) (13.9.4)\n",
            "Requirement already satisfied: packaging>=19.1 in /usr/local/lib/python3.11/dist-packages (from build>=1.0.3->chromadb) (24.2)\n",
            "Collecting pyproject_hooks (from build>=1.0.3->chromadb)\n",
            "  Downloading pyproject_hooks-1.2.0-py3-none-any.whl.metadata (1.3 kB)\n",
            "Collecting starlette<0.46.0,>=0.40.0 (from fastapi>=0.95.2->chromadb)\n",
            "  Downloading starlette-0.45.3-py3-none-any.whl.metadata (6.3 kB)\n",
            "Requirement already satisfied: anyio in /usr/local/lib/python3.11/dist-packages (from httpx>=0.27.0->chromadb) (3.7.1)\n",
            "Requirement already satisfied: certifi in /usr/local/lib/python3.11/dist-packages (from httpx>=0.27.0->chromadb) (2025.1.31)\n",
            "Requirement already satisfied: httpcore==1.* in /usr/local/lib/python3.11/dist-packages (from httpx>=0.27.0->chromadb) (1.0.7)\n",
            "Requirement already satisfied: idna in /usr/local/lib/python3.11/dist-packages (from httpx>=0.27.0->chromadb) (3.10)\n",
            "Requirement already satisfied: h11<0.15,>=0.13 in /usr/local/lib/python3.11/dist-packages (from httpcore==1.*->httpx>=0.27.0->chromadb) (0.14.0)\n",
            "Requirement already satisfied: six>=1.9.0 in /usr/local/lib/python3.11/dist-packages (from kubernetes>=28.1.0->chromadb) (1.17.0)\n",
            "Requirement already satisfied: python-dateutil>=2.5.3 in /usr/local/lib/python3.11/dist-packages (from kubernetes>=28.1.0->chromadb) (2.8.2)\n",
            "Requirement already satisfied: google-auth>=1.0.1 in /usr/local/lib/python3.11/dist-packages (from kubernetes>=28.1.0->chromadb) (2.27.0)\n",
            "Requirement already satisfied: websocket-client!=0.40.0,!=0.41.*,!=0.42.*,>=0.32.0 in /usr/local/lib/python3.11/dist-packages (from kubernetes>=28.1.0->chromadb) (1.8.0)\n",
            "Requirement already satisfied: requests in /usr/local/lib/python3.11/dist-packages (from kubernetes>=28.1.0->chromadb) (2.32.3)\n",
            "Requirement already satisfied: requests-oauthlib in /usr/local/lib/python3.11/dist-packages (from kubernetes>=28.1.0->chromadb) (2.0.0)\n",
            "Requirement already satisfied: oauthlib>=3.2.2 in /usr/local/lib/python3.11/dist-packages (from kubernetes>=28.1.0->chromadb) (3.2.2)\n",
            "Requirement already satisfied: urllib3>=1.24.2 in /usr/local/lib/python3.11/dist-packages (from kubernetes>=28.1.0->chromadb) (2.3.0)\n",
            "Collecting durationpy>=0.7 (from kubernetes>=28.1.0->chromadb)\n",
            "  Downloading durationpy-0.9-py3-none-any.whl.metadata (338 bytes)\n",
            "Collecting coloredlogs (from onnxruntime>=1.14.1->chromadb)\n",
            "  Downloading coloredlogs-15.0.1-py2.py3-none-any.whl.metadata (12 kB)\n",
            "Requirement already satisfied: flatbuffers in /usr/local/lib/python3.11/dist-packages (from onnxruntime>=1.14.1->chromadb) (25.1.24)\n",
            "Requirement already satisfied: protobuf in /usr/local/lib/python3.11/dist-packages (from onnxruntime>=1.14.1->chromadb) (4.25.6)\n",
            "Requirement already satisfied: sympy in /usr/local/lib/python3.11/dist-packages (from onnxruntime>=1.14.1->chromadb) (1.13.1)\n",
            "Requirement already satisfied: deprecated>=1.2.6 in /usr/local/lib/python3.11/dist-packages (from opentelemetry-api>=1.2.0->chromadb) (1.2.18)\n",
            "Requirement already satisfied: setuptools>=16.0 in /usr/local/lib/python3.11/dist-packages (from opentelemetry-api>=1.2.0->chromadb) (75.1.0)\n",
            "Requirement already satisfied: googleapis-common-protos~=1.52 in /usr/local/lib/python3.11/dist-packages (from opentelemetry-exporter-otlp-proto-grpc>=1.2.0->chromadb) (1.66.0)\n",
            "Collecting opentelemetry-exporter-otlp-proto-common==1.30.0 (from opentelemetry-exporter-otlp-proto-grpc>=1.2.0->chromadb)\n",
            "  Downloading opentelemetry_exporter_otlp_proto_common-1.30.0-py3-none-any.whl.metadata (1.9 kB)\n",
            "Collecting opentelemetry-proto==1.30.0 (from opentelemetry-exporter-otlp-proto-grpc>=1.2.0->chromadb)\n",
            "  Downloading opentelemetry_proto-1.30.0-py3-none-any.whl.metadata (2.4 kB)\n",
            "Collecting opentelemetry-sdk>=1.2.0 (from chromadb)\n",
            "  Downloading opentelemetry_sdk-1.30.0-py3-none-any.whl.metadata (1.6 kB)\n",
            "Collecting protobuf (from onnxruntime>=1.14.1->chromadb)\n",
            "  Downloading protobuf-5.29.3-cp38-abi3-manylinux2014_x86_64.whl.metadata (592 bytes)\n",
            "Collecting opentelemetry-instrumentation-asgi==0.51b0 (from opentelemetry-instrumentation-fastapi>=0.41b0->chromadb)\n",
            "  Downloading opentelemetry_instrumentation_asgi-0.51b0-py3-none-any.whl.metadata (2.1 kB)\n",
            "Collecting opentelemetry-instrumentation==0.51b0 (from opentelemetry-instrumentation-fastapi>=0.41b0->chromadb)\n",
            "  Downloading opentelemetry_instrumentation-0.51b0-py3-none-any.whl.metadata (6.3 kB)\n",
            "Collecting opentelemetry-semantic-conventions==0.51b0 (from opentelemetry-instrumentation-fastapi>=0.41b0->chromadb)\n",
            "  Downloading opentelemetry_semantic_conventions-0.51b0-py3-none-any.whl.metadata (2.5 kB)\n",
            "Collecting opentelemetry-util-http==0.51b0 (from opentelemetry-instrumentation-fastapi>=0.41b0->chromadb)\n",
            "  Downloading opentelemetry_util_http-0.51b0-py3-none-any.whl.metadata (2.6 kB)\n",
            "Requirement already satisfied: wrapt<2.0.0,>=1.0.0 in /usr/local/lib/python3.11/dist-packages (from opentelemetry-instrumentation==0.51b0->opentelemetry-instrumentation-fastapi>=0.41b0->chromadb) (1.17.2)\n",
            "Collecting asgiref~=3.0 (from opentelemetry-instrumentation-asgi==0.51b0->opentelemetry-instrumentation-fastapi>=0.41b0->chromadb)\n",
            "  Downloading asgiref-3.8.1-py3-none-any.whl.metadata (9.3 kB)\n",
            "Collecting opentelemetry-api>=1.2.0 (from chromadb)\n",
            "  Downloading opentelemetry_api-1.30.0-py3-none-any.whl.metadata (1.6 kB)\n",
            "Collecting importlib-metadata<=8.5.0,>=6.0 (from opentelemetry-api>=1.2.0->chromadb)\n",
            "  Downloading importlib_metadata-8.5.0-py3-none-any.whl.metadata (4.8 kB)\n",
            "Collecting monotonic>=1.5 (from posthog>=2.4.0->chromadb)\n",
            "  Downloading monotonic-1.6-py2.py3-none-any.whl.metadata (1.5 kB)\n",
            "Collecting backoff>=1.10.0 (from posthog>=2.4.0->chromadb)\n",
            "  Downloading backoff-2.2.1-py3-none-any.whl.metadata (14 kB)\n",
            "Requirement already satisfied: annotated-types>=0.6.0 in /usr/local/lib/python3.11/dist-packages (from pydantic>=1.9->chromadb) (0.7.0)\n",
            "Requirement already satisfied: pydantic-core==2.27.2 in /usr/local/lib/python3.11/dist-packages (from pydantic>=1.9->chromadb) (2.27.2)\n",
            "Requirement already satisfied: markdown-it-py>=2.2.0 in /usr/local/lib/python3.11/dist-packages (from rich>=10.11.0->chromadb) (3.0.0)\n",
            "Requirement already satisfied: pygments<3.0.0,>=2.13.0 in /usr/local/lib/python3.11/dist-packages (from rich>=10.11.0->chromadb) (2.18.0)\n",
            "Requirement already satisfied: huggingface-hub<1.0,>=0.16.4 in /usr/local/lib/python3.11/dist-packages (from tokenizers>=0.13.2->chromadb) (0.28.1)\n",
            "Requirement already satisfied: click>=8.0.0 in /usr/local/lib/python3.11/dist-packages (from typer>=0.9.0->chromadb) (8.1.8)\n",
            "Requirement already satisfied: shellingham>=1.3.0 in /usr/local/lib/python3.11/dist-packages (from typer>=0.9.0->chromadb) (1.5.4)\n",
            "Collecting httptools>=0.6.3 (from uvicorn[standard]>=0.18.3->chromadb)\n",
            "  Downloading httptools-0.6.4-cp311-cp311-manylinux_2_5_x86_64.manylinux1_x86_64.manylinux_2_17_x86_64.manylinux2014_x86_64.whl.metadata (3.6 kB)\n",
            "Collecting python-dotenv>=0.13 (from uvicorn[standard]>=0.18.3->chromadb)\n",
            "  Downloading python_dotenv-1.0.1-py3-none-any.whl.metadata (23 kB)\n",
            "Collecting uvloop!=0.15.0,!=0.15.1,>=0.14.0 (from uvicorn[standard]>=0.18.3->chromadb)\n",
            "  Downloading uvloop-0.21.0-cp311-cp311-manylinux_2_17_x86_64.manylinux2014_x86_64.whl.metadata (4.9 kB)\n",
            "Collecting watchfiles>=0.13 (from uvicorn[standard]>=0.18.3->chromadb)\n",
            "  Downloading watchfiles-1.0.4-cp311-cp311-manylinux_2_17_x86_64.manylinux2014_x86_64.whl.metadata (4.9 kB)\n",
            "Requirement already satisfied: websockets>=10.4 in /usr/local/lib/python3.11/dist-packages (from uvicorn[standard]>=0.18.3->chromadb) (14.2)\n",
            "Requirement already satisfied: cachetools<6.0,>=2.0.0 in /usr/local/lib/python3.11/dist-packages (from google-auth>=1.0.1->kubernetes>=28.1.0->chromadb) (5.5.1)\n",
            "Requirement already satisfied: pyasn1-modules>=0.2.1 in /usr/local/lib/python3.11/dist-packages (from google-auth>=1.0.1->kubernetes>=28.1.0->chromadb) (0.4.1)\n",
            "Requirement already satisfied: rsa<5,>=3.1.4 in /usr/local/lib/python3.11/dist-packages (from google-auth>=1.0.1->kubernetes>=28.1.0->chromadb) (4.9)\n",
            "Requirement already satisfied: filelock in /usr/local/lib/python3.11/dist-packages (from huggingface-hub<1.0,>=0.16.4->tokenizers>=0.13.2->chromadb) (3.17.0)\n",
            "Requirement already satisfied: fsspec>=2023.5.0 in /usr/local/lib/python3.11/dist-packages (from huggingface-hub<1.0,>=0.16.4->tokenizers>=0.13.2->chromadb) (2024.10.0)\n",
            "Requirement already satisfied: zipp>=3.20 in /usr/local/lib/python3.11/dist-packages (from importlib-metadata<=8.5.0,>=6.0->opentelemetry-api>=1.2.0->chromadb) (3.21.0)\n",
            "Requirement already satisfied: mdurl~=0.1 in /usr/local/lib/python3.11/dist-packages (from markdown-it-py>=2.2.0->rich>=10.11.0->chromadb) (0.1.2)\n",
            "Requirement already satisfied: charset-normalizer<4,>=2 in /usr/local/lib/python3.11/dist-packages (from requests->kubernetes>=28.1.0->chromadb) (3.4.1)\n",
            "Requirement already satisfied: sniffio>=1.1 in /usr/local/lib/python3.11/dist-packages (from anyio->httpx>=0.27.0->chromadb) (1.3.1)\n",
            "Collecting humanfriendly>=9.1 (from coloredlogs->onnxruntime>=1.14.1->chromadb)\n",
            "  Downloading humanfriendly-10.0-py2.py3-none-any.whl.metadata (9.2 kB)\n",
            "Requirement already satisfied: mpmath<1.4,>=1.1.0 in /usr/local/lib/python3.11/dist-packages (from sympy->onnxruntime>=1.14.1->chromadb) (1.3.0)\n",
            "Requirement already satisfied: pyasn1<0.7.0,>=0.4.6 in /usr/local/lib/python3.11/dist-packages (from pyasn1-modules>=0.2.1->google-auth>=1.0.1->kubernetes>=28.1.0->chromadb) (0.6.1)\n",
            "Downloading chromadb-0.6.3-py3-none-any.whl (611 kB)\n",
            "\u001b[2K   \u001b[90m━━━━━━━━━━━━━━━━━━━━━━━━━━━━━━━━━━━━━━━━\u001b[0m \u001b[32m611.1/611.1 kB\u001b[0m \u001b[31m13.6 MB/s\u001b[0m eta \u001b[36m0:00:00\u001b[0m\n",
            "\u001b[?25hDownloading chroma_hnswlib-0.7.6-cp311-cp311-manylinux_2_17_x86_64.manylinux2014_x86_64.whl (2.4 MB)\n",
            "\u001b[2K   \u001b[90m━━━━━━━━━━━━━━━━━━━━━━━━━━━━━━━━━━━━━━━━\u001b[0m \u001b[32m2.4/2.4 MB\u001b[0m \u001b[31m48.7 MB/s\u001b[0m eta \u001b[36m0:00:00\u001b[0m\n",
            "\u001b[?25hDownloading bcrypt-4.2.1-cp39-abi3-manylinux_2_28_x86_64.whl (278 kB)\n",
            "\u001b[2K   \u001b[90m━━━━━━━━━━━━━━━━━━━━━━━━━━━━━━━━━━━━━━━━\u001b[0m \u001b[32m278.6/278.6 kB\u001b[0m \u001b[31m19.2 MB/s\u001b[0m eta \u001b[36m0:00:00\u001b[0m\n",
            "\u001b[?25hDownloading build-1.2.2.post1-py3-none-any.whl (22 kB)\n",
            "Downloading fastapi-0.115.8-py3-none-any.whl (94 kB)\n",
            "\u001b[2K   \u001b[90m━━━━━━━━━━━━━━━━━━━━━━━━━━━━━━━━━━━━━━━━\u001b[0m \u001b[32m94.8/94.8 kB\u001b[0m \u001b[31m7.0 MB/s\u001b[0m eta \u001b[36m0:00:00\u001b[0m\n",
            "\u001b[?25hDownloading kubernetes-32.0.0-py2.py3-none-any.whl (2.0 MB)\n",
            "\u001b[2K   \u001b[90m━━━━━━━━━━━━━━━━━━━━━━━━━━━━━━━━━━━━━━━━\u001b[0m \u001b[32m2.0/2.0 MB\u001b[0m \u001b[31m67.4 MB/s\u001b[0m eta \u001b[36m0:00:00\u001b[0m\n",
            "\u001b[?25hDownloading mmh3-5.1.0-cp311-cp311-manylinux_2_5_x86_64.manylinux1_x86_64.manylinux_2_17_x86_64.manylinux2014_x86_64.whl (101 kB)\n",
            "\u001b[2K   \u001b[90m━━━━━━━━━━━━━━━━━━━━━━━━━━━━━━━━━━━━━━━━\u001b[0m \u001b[32m101.6/101.6 kB\u001b[0m \u001b[31m7.1 MB/s\u001b[0m eta \u001b[36m0:00:00\u001b[0m\n",
            "\u001b[?25hDownloading onnxruntime-1.20.1-cp311-cp311-manylinux_2_27_x86_64.manylinux_2_28_x86_64.whl (13.3 MB)\n",
            "\u001b[2K   \u001b[90m━━━━━━━━━━━━━━━━━━━━━━━━━━━━━━━━━━━━━━━━\u001b[0m \u001b[32m13.3/13.3 MB\u001b[0m \u001b[31m81.0 MB/s\u001b[0m eta \u001b[36m0:00:00\u001b[0m\n",
            "\u001b[?25hDownloading opentelemetry_exporter_otlp_proto_grpc-1.30.0-py3-none-any.whl (18 kB)\n",
            "Downloading opentelemetry_exporter_otlp_proto_common-1.30.0-py3-none-any.whl (18 kB)\n",
            "Downloading opentelemetry_proto-1.30.0-py3-none-any.whl (55 kB)\n",
            "\u001b[2K   \u001b[90m━━━━━━━━━━━━━━━━━━━━━━━━━━━━━━━━━━━━━━━━\u001b[0m \u001b[32m55.9/55.9 kB\u001b[0m \u001b[31m3.9 MB/s\u001b[0m eta \u001b[36m0:00:00\u001b[0m\n",
            "\u001b[?25hDownloading opentelemetry_instrumentation_fastapi-0.51b0-py3-none-any.whl (12 kB)\n",
            "Downloading opentelemetry_instrumentation-0.51b0-py3-none-any.whl (30 kB)\n",
            "Downloading opentelemetry_instrumentation_asgi-0.51b0-py3-none-any.whl (16 kB)\n",
            "Downloading opentelemetry_semantic_conventions-0.51b0-py3-none-any.whl (177 kB)\n",
            "\u001b[2K   \u001b[90m━━━━━━━━━━━━━━━━━━━━━━━━━━━━━━━━━━━━━━━━\u001b[0m \u001b[32m177.4/177.4 kB\u001b[0m \u001b[31m12.9 MB/s\u001b[0m eta \u001b[36m0:00:00\u001b[0m\n",
            "\u001b[?25hDownloading opentelemetry_api-1.30.0-py3-none-any.whl (64 kB)\n",
            "\u001b[2K   \u001b[90m━━━━━━━━━━━━━━━━━━━━━━━━━━━━━━━━━━━━━━━━\u001b[0m \u001b[32m65.0/65.0 kB\u001b[0m \u001b[31m4.8 MB/s\u001b[0m eta \u001b[36m0:00:00\u001b[0m\n",
            "\u001b[?25hDownloading opentelemetry_util_http-0.51b0-py3-none-any.whl (7.3 kB)\n",
            "Downloading opentelemetry_sdk-1.30.0-py3-none-any.whl (118 kB)\n",
            "\u001b[2K   \u001b[90m━━━━━━━━━━━━━━━━━━━━━━━━━━━━━━━━━━━━━━━━\u001b[0m \u001b[32m118.7/118.7 kB\u001b[0m \u001b[31m9.0 MB/s\u001b[0m eta \u001b[36m0:00:00\u001b[0m\n",
            "\u001b[?25hDownloading overrides-7.7.0-py3-none-any.whl (17 kB)\n",
            "Downloading posthog-3.11.0-py2.py3-none-any.whl (72 kB)\n",
            "\u001b[2K   \u001b[90m━━━━━━━━━━━━━━━━━━━━━━━━━━━━━━━━━━━━━━━━\u001b[0m \u001b[32m72.0/72.0 kB\u001b[0m \u001b[31m4.8 MB/s\u001b[0m eta \u001b[36m0:00:00\u001b[0m\n",
            "\u001b[?25hDownloading uvicorn-0.34.0-py3-none-any.whl (62 kB)\n",
            "\u001b[2K   \u001b[90m━━━━━━━━━━━━━━━━━━━━━━━━━━━━━━━━━━━━━━━━\u001b[0m \u001b[32m62.3/62.3 kB\u001b[0m \u001b[31m4.4 MB/s\u001b[0m eta \u001b[36m0:00:00\u001b[0m\n",
            "\u001b[?25hDownloading backoff-2.2.1-py3-none-any.whl (15 kB)\n",
            "Downloading durationpy-0.9-py3-none-any.whl (3.5 kB)\n",
            "Downloading httptools-0.6.4-cp311-cp311-manylinux_2_5_x86_64.manylinux1_x86_64.manylinux_2_17_x86_64.manylinux2014_x86_64.whl (459 kB)\n",
            "\u001b[2K   \u001b[90m━━━━━━━━━━━━━━━━━━━━━━━━━━━━━━━━━━━━━━━━\u001b[0m \u001b[32m459.8/459.8 kB\u001b[0m \u001b[31m29.7 MB/s\u001b[0m eta \u001b[36m0:00:00\u001b[0m\n",
            "\u001b[?25hDownloading importlib_metadata-8.5.0-py3-none-any.whl (26 kB)\n",
            "Downloading monotonic-1.6-py2.py3-none-any.whl (8.2 kB)\n",
            "Downloading protobuf-5.29.3-cp38-abi3-manylinux2014_x86_64.whl (319 kB)\n",
            "\u001b[2K   \u001b[90m━━━━━━━━━━━━━━━━━━━━━━━━━━━━━━━━━━━━━━━━\u001b[0m \u001b[32m319.7/319.7 kB\u001b[0m \u001b[31m20.9 MB/s\u001b[0m eta \u001b[36m0:00:00\u001b[0m\n",
            "\u001b[?25hDownloading python_dotenv-1.0.1-py3-none-any.whl (19 kB)\n",
            "Downloading starlette-0.45.3-py3-none-any.whl (71 kB)\n",
            "\u001b[2K   \u001b[90m━━━━━━━━━━━━━━━━━━━━━━━━━━━━━━━━━━━━━━━━\u001b[0m \u001b[32m71.5/71.5 kB\u001b[0m \u001b[31m4.5 MB/s\u001b[0m eta \u001b[36m0:00:00\u001b[0m\n",
            "\u001b[?25hDownloading uvloop-0.21.0-cp311-cp311-manylinux_2_17_x86_64.manylinux2014_x86_64.whl (4.0 MB)\n",
            "\u001b[2K   \u001b[90m━━━━━━━━━━━━━━━━━━━━━━━━━━━━━━━━━━━━━━━━\u001b[0m \u001b[32m4.0/4.0 MB\u001b[0m \u001b[31m77.3 MB/s\u001b[0m eta \u001b[36m0:00:00\u001b[0m\n",
            "\u001b[?25hDownloading watchfiles-1.0.4-cp311-cp311-manylinux_2_17_x86_64.manylinux2014_x86_64.whl (452 kB)\n",
            "\u001b[2K   \u001b[90m━━━━━━━━━━━━━━━━━━━━━━━━━━━━━━━━━━━━━━━━\u001b[0m \u001b[32m452.6/452.6 kB\u001b[0m \u001b[31m30.9 MB/s\u001b[0m eta \u001b[36m0:00:00\u001b[0m\n",
            "\u001b[?25hDownloading coloredlogs-15.0.1-py2.py3-none-any.whl (46 kB)\n",
            "\u001b[2K   \u001b[90m━━━━━━━━━━━━━━━━━━━━━━━━━━━━━━━━━━━━━━━━\u001b[0m \u001b[32m46.0/46.0 kB\u001b[0m \u001b[31m3.4 MB/s\u001b[0m eta \u001b[36m0:00:00\u001b[0m\n",
            "\u001b[?25hDownloading pyproject_hooks-1.2.0-py3-none-any.whl (10 kB)\n",
            "Downloading asgiref-3.8.1-py3-none-any.whl (23 kB)\n",
            "Downloading humanfriendly-10.0-py2.py3-none-any.whl (86 kB)\n",
            "\u001b[2K   \u001b[90m━━━━━━━━━━━━━━━━━━━━━━━━━━━━━━━━━━━━━━━━\u001b[0m \u001b[32m86.8/86.8 kB\u001b[0m \u001b[31m6.7 MB/s\u001b[0m eta \u001b[36m0:00:00\u001b[0m\n",
            "\u001b[?25hBuilding wheels for collected packages: pypika\n",
            "  Building wheel for pypika (pyproject.toml) ... \u001b[?25l\u001b[?25hdone\n",
            "  Created wheel for pypika: filename=PyPika-0.48.9-py2.py3-none-any.whl size=53771 sha256=1188402dfed9ba2169c2eb0143a1906289e5fc2164e57d63841e665c7dfcb1d3\n",
            "  Stored in directory: /root/.cache/pip/wheels/a3/01/bd/4c40ceb9d5354160cb186dcc153360f4ab7eb23e2b24daf96d\n",
            "Successfully built pypika\n",
            "Installing collected packages: pypika, monotonic, durationpy, uvloop, uvicorn, python-dotenv, pyproject_hooks, protobuf, overrides, opentelemetry-util-http, mmh3, importlib-metadata, humanfriendly, httptools, chroma-hnswlib, bcrypt, backoff, asgiref, watchfiles, starlette, posthog, opentelemetry-proto, opentelemetry-api, coloredlogs, build, opentelemetry-semantic-conventions, opentelemetry-exporter-otlp-proto-common, onnxruntime, kubernetes, fastapi, opentelemetry-sdk, opentelemetry-instrumentation, opentelemetry-instrumentation-asgi, opentelemetry-exporter-otlp-proto-grpc, opentelemetry-instrumentation-fastapi, chromadb\n",
            "  Attempting uninstall: protobuf\n",
            "    Found existing installation: protobuf 4.25.6\n",
            "    Uninstalling protobuf-4.25.6:\n",
            "      Successfully uninstalled protobuf-4.25.6\n",
            "  Attempting uninstall: importlib-metadata\n",
            "    Found existing installation: importlib_metadata 8.6.1\n",
            "    Uninstalling importlib_metadata-8.6.1:\n",
            "      Successfully uninstalled importlib_metadata-8.6.1\n",
            "  Attempting uninstall: opentelemetry-api\n",
            "    Found existing installation: opentelemetry-api 1.16.0\n",
            "    Uninstalling opentelemetry-api-1.16.0:\n",
            "      Successfully uninstalled opentelemetry-api-1.16.0\n",
            "  Attempting uninstall: opentelemetry-semantic-conventions\n",
            "    Found existing installation: opentelemetry-semantic-conventions 0.37b0\n",
            "    Uninstalling opentelemetry-semantic-conventions-0.37b0:\n",
            "      Successfully uninstalled opentelemetry-semantic-conventions-0.37b0\n",
            "  Attempting uninstall: opentelemetry-sdk\n",
            "    Found existing installation: opentelemetry-sdk 1.16.0\n",
            "    Uninstalling opentelemetry-sdk-1.16.0:\n",
            "      Successfully uninstalled opentelemetry-sdk-1.16.0\n",
            "Successfully installed asgiref-3.8.1 backoff-2.2.1 bcrypt-4.2.1 build-1.2.2.post1 chroma-hnswlib-0.7.6 chromadb-0.6.3 coloredlogs-15.0.1 durationpy-0.9 fastapi-0.115.8 httptools-0.6.4 humanfriendly-10.0 importlib-metadata-8.5.0 kubernetes-32.0.0 mmh3-5.1.0 monotonic-1.6 onnxruntime-1.20.1 opentelemetry-api-1.30.0 opentelemetry-exporter-otlp-proto-common-1.30.0 opentelemetry-exporter-otlp-proto-grpc-1.30.0 opentelemetry-instrumentation-0.51b0 opentelemetry-instrumentation-asgi-0.51b0 opentelemetry-instrumentation-fastapi-0.51b0 opentelemetry-proto-1.30.0 opentelemetry-sdk-1.30.0 opentelemetry-semantic-conventions-0.51b0 opentelemetry-util-http-0.51b0 overrides-7.7.0 posthog-3.11.0 protobuf-5.29.3 pypika-0.48.9 pyproject_hooks-1.2.0 python-dotenv-1.0.1 starlette-0.45.3 uvicorn-0.34.0 uvloop-0.21.0 watchfiles-1.0.4\n"
          ]
        },
        {
          "output_type": "display_data",
          "data": {
            "application/vnd.colab-display-data+json": {
              "pip_warning": {
                "packages": [
                  "importlib_metadata"
                ]
              },
              "id": "843da04176684ed5bebc27caa6f29bac"
            }
          },
          "metadata": {}
        }
      ],
      "source": [
        "!pip install PyPDF2\n",
        "!pip install chromadb"
      ]
    },
    {
      "cell_type": "markdown",
      "metadata": {
        "id": "1ypuelQxXfQm"
      },
      "source": [
        "Lire un pdf et appliquer du embedding"
      ]
    },
    {
      "cell_type": "code",
      "execution_count": null,
      "metadata": {
        "colab": {
          "base_uri": "https://localhost:8080/"
        },
        "collapsed": true,
        "id": "8NiVtWB_TR66",
        "outputId": "1b29d162-4d3e-4b9d-8a88-ef204c22c091"
      },
      "outputs": [
        {
          "name": "stdout",
          "output_type": "stream",
          "text": [
            "--2025-02-08 22:28:24--  https://cf-courses-data.s3.us.cloud-object-storage.appdomain.cloud/6z4EmYqfgIxyYLGukHedvA/foodMenu.pdf\n",
            "Resolving cf-courses-data.s3.us.cloud-object-storage.appdomain.cloud (cf-courses-data.s3.us.cloud-object-storage.appdomain.cloud)... 169.63.118.104\n",
            "Connecting to cf-courses-data.s3.us.cloud-object-storage.appdomain.cloud (cf-courses-data.s3.us.cloud-object-storage.appdomain.cloud)|169.63.118.104|:443... connected.\n",
            "HTTP request sent, awaiting response... 200 OK\n",
            "Length: 212668 (208K) [application/pdf]\n",
            "Saving to: ‘foodMenu.pdf.1’\n",
            "\n",
            "foodMenu.pdf.1      100%[===================>] 207.68K  --.-KB/s    in 0.1s    \n",
            "\n",
            "2025-02-08 22:28:25 (1.71 MB/s) - ‘foodMenu.pdf.1’ saved [212668/212668]\n",
            "\n"
          ]
        }
      ],
      "source": [
        "!wget https://cf-courses-data.s3.us.cloud-object-storage.appdomain.cloud/6z4EmYqfgIxyYLGukHedvA/foodMenu.pdf"
      ]
    },
    {
      "cell_type": "code",
      "execution_count": null,
      "metadata": {
        "id": "cPuvrtM3XlvZ"
      },
      "outputs": [],
      "source": [
        "from PyPDF2 import PdfReader\n",
        "\n",
        "# Ouvrir le fichier PDF\n",
        "reader = PdfReader(\"foodMenu.pdf\")\n",
        "\n",
        "# Obtenir le nombre de pages\n",
        "number_of_pages = len(reader.pages)\n",
        "\n",
        "# Extraire le texte de toutes les pages\n",
        "text = \"\"\n",
        "for page_num in range(number_of_pages):\n",
        "    page = reader.pages[page_num]\n",
        "    text += page.extract_text()\n",
        "\n",
        "# Afficher le texte\n",
        "text = text.replace(\"\\n\", \" \").replace(\"  \", \" \")"
      ]
    },
    {
      "cell_type": "code",
      "execution_count": null,
      "metadata": {
        "id": "ZUeYaCh6Zp5b"
      },
      "outputs": [],
      "source": [
        "text_embedding = client.feature_extraction(text)"
      ]
    },
    {
      "cell_type": "code",
      "execution_count": null,
      "metadata": {
        "colab": {
          "base_uri": "https://localhost:8080/"
        },
        "collapsed": true,
        "id": "ABHiacoZa7_m",
        "outputId": "44ded6e0-092b-4a36-9901-0c4b2f793969"
      },
      "outputs": [
        {
          "data": {
            "text/plain": [
              "array([-3.90361249e-02, -2.07622480e-02,  6.97398111e-02,  3.88702080e-02,\n",
              "        1.15701379e-02,  3.96985039e-02, -1.14835743e-02,  2.36800611e-02,\n",
              "        7.52899274e-02, -1.01693475e-03, -5.63242249e-02, -4.81835902e-02,\n",
              "       -4.90042455e-02, -6.16592318e-02, -8.40486307e-03, -9.93115548e-03,\n",
              "        1.18030079e-01, -2.64369175e-02,  1.50149902e-02, -4.57093827e-02,\n",
              "        5.79187721e-02, -2.06559096e-02,  4.79550175e-02,  5.78375347e-02,\n",
              "        4.76792343e-02,  5.41423187e-02,  8.06326494e-02, -7.20125362e-02,\n",
              "       -8.95031840e-02, -2.16865297e-02, -3.84214371e-02, -2.64533609e-02,\n",
              "       -6.23111892e-03, -5.38338870e-02,  1.35312872e-02, -7.81862363e-02,\n",
              "        1.19988374e-01, -5.57969557e-03, -2.73074722e-03, -2.87858974e-02,\n",
              "        2.26520002e-03,  8.21501315e-02, -2.68454012e-02, -3.65535207e-02,\n",
              "        1.84803281e-03, -9.08461493e-03, -4.62096557e-02, -3.98545107e-03,\n",
              "        4.14622910e-02,  2.26672459e-02, -2.88198553e-02,  2.57832650e-03,\n",
              "        2.14889590e-02, -5.00231758e-02,  3.20920795e-02,  5.97710162e-02,\n",
              "       -2.56869439e-02, -1.03510387e-01,  4.18446362e-02,  1.13608561e-01,\n",
              "       -1.16886929e-01, -2.60563921e-02,  1.14842122e-02,  1.26017341e-02,\n",
              "        1.65899768e-02, -6.78283870e-02, -8.56340900e-02, -3.64037342e-02,\n",
              "       -5.27578294e-02,  1.48602463e-02, -8.38588923e-02,  3.05048395e-02,\n",
              "        9.81590003e-02, -6.48388232e-04, -4.01448160e-02,  6.19645640e-02,\n",
              "        1.43631727e-01, -4.79740612e-02, -3.40972878e-02,  2.85960473e-02,\n",
              "       -7.62618035e-02, -4.04215455e-02,  3.55128311e-02,  4.03725356e-02,\n",
              "        4.33023758e-02, -3.91211808e-02,  3.85425910e-02,  7.46779069e-02,\n",
              "        8.29200745e-02, -5.59284911e-02,  1.36493810e-03, -1.41304191e-02,\n",
              "       -1.16328113e-02,  2.49919854e-02,  8.09978247e-02, -6.09470420e-02,\n",
              "       -5.37458211e-02, -4.57693934e-02, -3.86236794e-02,  8.91456660e-03,\n",
              "        2.58588344e-02, -2.03765091e-02,  9.94707718e-02, -6.00341521e-02,\n",
              "       -4.14287262e-02,  1.68778934e-03,  5.31864502e-02, -3.19478698e-02,\n",
              "        5.77700101e-02,  4.37715575e-02,  1.24049746e-02,  1.17896206e-03,\n",
              "       -2.40569152e-02, -1.73329208e-02, -2.97367349e-02, -2.17564162e-02,\n",
              "        8.56511220e-02, -7.07339421e-02, -2.16030404e-02,  1.05560164e-03,\n",
              "       -2.39624698e-02,  4.37480491e-03,  2.89463438e-02,  4.93455902e-02,\n",
              "       -8.40544328e-02, -1.28381224e-02,  1.73180941e-02,  5.03860372e-33,\n",
              "       -1.55036785e-02,  1.01186283e-01,  7.43032899e-03, -7.24209100e-02,\n",
              "        2.25043856e-02,  5.84341539e-03,  2.80983932e-02,  4.41815257e-02,\n",
              "        3.00005288e-03,  9.52978283e-02, -4.95634563e-02,  4.44119573e-02,\n",
              "       -2.56789532e-02,  8.66438821e-02, -4.88464236e-02, -6.48419708e-02,\n",
              "        2.91103846e-03, -4.38468531e-02,  7.15188608e-02, -6.54899552e-02,\n",
              "       -5.47348373e-02, -1.21501032e-02, -2.01120637e-02,  4.81553450e-02,\n",
              "       -1.06296420e-01,  5.48301674e-02, -5.54379337e-02, -4.89554107e-02,\n",
              "       -3.69350985e-02, -2.27439739e-02,  2.02396270e-02, -4.56444267e-03,\n",
              "        3.93194593e-02, -2.43838802e-02, -3.53171788e-02, -1.10479267e-02,\n",
              "        4.81067076e-02, -3.13267149e-02, -2.74205543e-02, -4.60527698e-03,\n",
              "       -4.02061231e-02, -1.32997921e-02,  1.95533894e-02, -1.54347206e-02,\n",
              "       -4.38525937e-02, -9.11471844e-02,  7.51409680e-02,  7.76920989e-02,\n",
              "        2.84947753e-02, -4.18971432e-03, -2.58115511e-02, -2.33514812e-02,\n",
              "       -2.70298161e-02,  1.62850600e-03, -6.84312358e-02, -4.52590175e-03,\n",
              "        2.75174454e-02,  3.64972055e-02,  1.18502811e-01,  5.15942462e-02,\n",
              "       -1.99010558e-02,  1.87606942e-02, -3.84449326e-02, -6.69355467e-02,\n",
              "       -3.52998376e-02,  7.74337277e-02, -1.50710298e-02, -4.53668786e-03,\n",
              "       -3.30139473e-02,  5.46204075e-02,  1.08774714e-02,  5.03162621e-03,\n",
              "        6.91970587e-02,  3.72884013e-02,  6.39400557e-02, -1.67197399e-02,\n",
              "        2.78944075e-02, -1.82390399e-02,  6.31815493e-02, -3.00307497e-02,\n",
              "        4.65071909e-02, -7.84092844e-02,  1.79748423e-02,  1.87636036e-02,\n",
              "       -4.79557775e-02,  5.67647740e-02, -3.38847339e-02,  9.32343826e-02,\n",
              "       -1.73495840e-02,  7.74104521e-02, -2.84613017e-02, -1.78636517e-02,\n",
              "        1.26006966e-02,  2.42536068e-02, -3.94917727e-02, -5.16686705e-33,\n",
              "        1.39873382e-02, -2.09025424e-02, -5.12241870e-02,  1.83902550e-02,\n",
              "        8.08320567e-02, -1.37762073e-02,  6.95091113e-02,  5.24770375e-03,\n",
              "        3.21818218e-02, -1.33903503e-01, -8.47421363e-02, -4.06444594e-02,\n",
              "        5.45898937e-02,  1.78069528e-02, -2.89754551e-02,  1.14718638e-01,\n",
              "       -3.87532711e-02,  7.34234154e-02,  9.99571532e-02, -2.82499939e-02,\n",
              "       -1.12965167e-01,  8.86045471e-02,  1.02740051e-02,  4.45212461e-02,\n",
              "        2.13230755e-02,  8.14408436e-02,  9.22662988e-02,  4.60370481e-02,\n",
              "       -4.81231837e-03,  1.47440722e-02, -2.05888096e-02, -7.56482035e-02,\n",
              "        3.55011784e-02, -2.76273899e-02, -3.30758281e-02,  6.90644085e-02,\n",
              "       -4.07460006e-03,  6.60578534e-03,  1.43311284e-02,  3.92467678e-02,\n",
              "       -1.14226080e-01, -5.14515862e-03,  1.51999732e-02,  1.70036294e-02,\n",
              "       -1.11041442e-02, -2.34782007e-02, -4.37128879e-02, -4.54662517e-02,\n",
              "       -6.19867854e-02,  5.63692600e-02, -4.52523418e-02, -3.09586581e-02,\n",
              "        4.29841783e-03,  1.40955513e-02, -6.21089377e-02,  6.59650862e-02,\n",
              "       -9.24822763e-02, -2.24451851e-02,  1.01125464e-02, -8.75659809e-02,\n",
              "        1.05922448e-03,  8.76781717e-02,  7.40648946e-03, -2.66854912e-02,\n",
              "        1.59177974e-01, -5.02790213e-02, -9.26743969e-02, -3.19930762e-02,\n",
              "        3.05048452e-04,  1.48014929e-02, -3.87717225e-02, -2.31311191e-02,\n",
              "        5.95156364e-02, -6.04277551e-02,  4.34730016e-02,  5.65567054e-02,\n",
              "        4.44613881e-02, -4.99114729e-02,  7.41289258e-02,  5.22610312e-03,\n",
              "        1.79597437e-02,  5.80844795e-03,  1.64813492e-02, -3.05608683e-03,\n",
              "       -1.44948512e-02,  1.67588908e-02, -5.52894287e-02,  8.74956921e-02,\n",
              "        4.22293134e-02,  5.70665523e-02, -2.44653504e-02,  2.39952281e-02,\n",
              "        7.57934377e-02,  4.40765201e-04,  1.17617315e-02, -4.78338222e-08,\n",
              "        1.03808038e-01, -4.30278257e-02, -2.57195011e-02,  1.23373456e-01,\n",
              "        4.20789905e-02, -3.04682255e-02,  3.76929156e-02, -4.87690568e-02,\n",
              "       -4.41528335e-02,  3.75159495e-02, -2.61932258e-02,  6.28109872e-02,\n",
              "       -7.51090422e-02, -3.41778621e-02, -1.25169411e-01,  4.65838984e-02,\n",
              "       -3.79730836e-02,  7.85847455e-02,  2.88265627e-02,  5.12701347e-02,\n",
              "       -3.19246873e-02,  7.09096044e-02, -2.26072464e-02, -4.70284484e-02,\n",
              "        1.51329860e-02, -9.68788925e-04, -5.50799705e-02, -4.73905588e-03,\n",
              "        3.76585945e-02,  1.04407202e-02, -6.05012849e-02, -9.95296892e-03,\n",
              "       -2.09837370e-02, -2.84640770e-02, -2.86928639e-02,  1.15229115e-02,\n",
              "       -9.99449566e-02,  1.62604973e-02, -2.14455537e-02, -4.55133989e-02,\n",
              "       -4.99709230e-03, -5.32748066e-02, -5.21821491e-02, -6.54619262e-02,\n",
              "       -6.32837564e-02,  2.48394236e-02, -1.38836280e-01, -2.00951621e-02,\n",
              "       -2.95807910e-03,  8.22397764e-04, -6.34282976e-02,  2.30474900e-02,\n",
              "       -1.19180968e-02,  1.87596567e-02,  2.43137646e-02, -3.84735651e-02,\n",
              "        4.15257812e-02, -6.77720383e-02,  5.61192259e-02, -3.80515940e-02,\n",
              "       -4.70012538e-02, -3.25609595e-02,  2.05505658e-02, -5.16669899e-02],\n",
              "      dtype=float32)"
            ]
          },
          "execution_count": 65,
          "metadata": {},
          "output_type": "execute_result"
        }
      ],
      "source": [
        "text_embedding"
      ]
    },
    {
      "cell_type": "markdown",
      "metadata": {
        "id": "0vDoMmsqvWe-"
      },
      "source": [
        "# Recommandation based on user query"
      ]
    },
    {
      "cell_type": "markdown",
      "metadata": {
        "id": "5IRsokIrvc2C"
      },
      "source": [
        "### Importation des modules"
      ]
    },
    {
      "cell_type": "code",
      "source": [
        "# Implémentation de la fonction de récupérer des clés d'api : huggingface_api et gemini_api\n",
        "from google.colab import userdata\n",
        "huggingface_api = userdata.get('huggingface')\n",
        "gemini_api = userdata.get('GOOGLE_API_KEY')"
      ],
      "metadata": {
        "id": "Cy0oR3Jm8PbO"
      },
      "execution_count": null,
      "outputs": []
    },
    {
      "cell_type": "code",
      "execution_count": null,
      "metadata": {
        "id": "Wtt3jNycvnBc"
      },
      "outputs": [],
      "source": [
        "import chromadb\n",
        "import huggingface_hub\n",
        "from huggingface_hub import InferenceClient\n",
        "import PyPDF2\n",
        "import os\n",
        "import re\n",
        "import json"
      ]
    },
    {
      "cell_type": "code",
      "execution_count": null,
      "metadata": {
        "id": "qqiO12YovV3I"
      },
      "outputs": [],
      "source": [
        "chroma_client = chromadb.Client()\n",
        "hf_client_emb = InferenceClient(\n",
        "    \"sentence-transformers/all-MiniLM-L6-v2\",\n",
        "    token=huggingface_api,\n",
        ")"
      ]
    },
    {
      "cell_type": "markdown",
      "metadata": {
        "id": "_2pNgTKtwTS8"
      },
      "source": [
        "### Importation des données"
      ]
    },
    {
      "cell_type": "markdown",
      "metadata": {
        "id": "QFmPKj_ew7SX"
      },
      "source": [
        "### Début du code"
      ]
    },
    {
      "cell_type": "code",
      "execution_count": null,
      "metadata": {
        "id": "zzFs5ddqTVs1"
      },
      "outputs": [],
      "source": [
        "from foodDataSet import foodItems"
      ]
    },
    {
      "cell_type": "code",
      "execution_count": null,
      "metadata": {
        "id": "eviphmiMwWNq"
      },
      "outputs": [],
      "source": [
        "collectionName = \"food_collection\""
      ]
    },
    {
      "cell_type": "code",
      "execution_count": null,
      "metadata": {
        "id": "6LpfLrrNy68u"
      },
      "outputs": [],
      "source": [
        "# fonction de génération des embeddings\n",
        "def generateEmbeddings(texts):\n",
        "  texts_embeddings = hf_client_emb.feature_extraction(texts)\n",
        "  return texts_embeddings"
      ]
    },
    {
      "cell_type": "markdown",
      "metadata": {
        "id": "koAefwyQKY8E"
      },
      "source": [
        "### Développer la fonction du critère de recherche"
      ]
    },
    {
      "cell_type": "markdown",
      "metadata": {
        "id": "UKClrDKnKoB4"
      },
      "source": [
        "#### Avec Gemini"
      ]
    },
    {
      "cell_type": "code",
      "execution_count": null,
      "metadata": {
        "id": "_N_IkQ_SGo92"
      },
      "outputs": [],
      "source": [
        "import google.generativeai as genai\n",
        "\n",
        "genai.configure(api_key=gemini_api)\n",
        "model = genai.GenerativeModel('gemini-pro')\n"
      ]
    },
    {
      "cell_type": "code",
      "execution_count": null,
      "metadata": {
        "colab": {
          "base_uri": "https://localhost:8080/",
          "height": 36
        },
        "collapsed": true,
        "id": "0pO7RrzEGfAQ",
        "outputId": "fcf10727-c3f4-46db-faf5-026df3f1d1e9"
      },
      "outputs": [
        {
          "output_type": "execute_result",
          "data": {
            "text/plain": [
              "'non-vegan'"
            ],
            "application/vnd.google.colaboratory.intrinsic+json": {
              "type": "string"
            }
          },
          "metadata": {},
          "execution_count": 10
        }
      ],
      "source": [
        "# recherche de critère avec l'api de gemini\n",
        "def extractFilterCriteria_gemini(query):\n",
        "\n",
        "  labels = [\"vegan\", \"non-vegan\", \"vegetarian\", \"non-vegetarian\", \"pescatarian\", \"omnivore\", \"paleo\", \"ketogenic\", \"chinese\", \"indian\", \"japanese\", \"autre\"]\n",
        "\n",
        "\n",
        "  prompt = f\"\"\"\n",
        "    You are a powerful AI trained to classify text into one of the following categories.\n",
        "    Here are the categories: {labels}.\n",
        "\n",
        "    Your task is to determine which category best fits the following text.\n",
        "\n",
        "    Text: \"{query}\"\n",
        "\n",
        "    Please respond with one of the categories listed above that best describes the text.\n",
        "\n",
        "    \"\"\"\n",
        "\n",
        "  response = model.generate_content(prompt)\n",
        "\n",
        "  return response.text\n",
        "\n",
        "\n",
        "extractFilterCriteria_gemini(\"I want to eat Chocolate\")"
      ]
    },
    {
      "cell_type": "markdown",
      "metadata": {
        "id": "lfwxg2yWKtA8"
      },
      "source": [
        "#### Avec Facebook Bart (open-source)"
      ]
    },
    {
      "cell_type": "code",
      "execution_count": null,
      "metadata": {
        "colab": {
          "base_uri": "https://localhost:8080/",
          "height": 358,
          "referenced_widgets": [
            "5cc2eb6d08a4490dae6566321d6a5e00",
            "9de641c8d7a0413790aa52d0ac6d36cc",
            "3a78369c2f174eb597912e130c652511",
            "d223d958797c40a29b12910ae8706585",
            "521c8fd533594d72bd877f6de9dca0dc",
            "f03a15ffde704bb9812506542a4331f8",
            "2b27829fd9734800b6db91f228e984e2",
            "6fb48cdd8aa24fab91792e177bd82d71",
            "f3d885b247704c5abf80f129e0cb1609",
            "9ca9e0a1534347f494f3d77e792137d4",
            "2bccb241ff16405f8e26206fe07d93b4",
            "b839f3d8823249618ed26a85b1d3388d",
            "53c60a9a6bd24d42898039dd015d0f43",
            "95cea74ace134687ab4bf48fd27f66e1",
            "9906db6c421c4974a89bea0359800501",
            "5841138cc91e4dc19d04e4b5b19be6e6",
            "0991fa39f2a44defa4b9a23d8fe0c9ec",
            "d1d89002913a4ac5b0bf338ac272b105",
            "ae37484546de41abae817ea5afc97807",
            "157909fd910649108c8dbd8ed657cd46",
            "3dba7918a50d455a9afb2909097d22c6",
            "38acc8610b464c3ca6b123612528de7b",
            "60d6ff74ab9f4b408feae00f2b89dd75",
            "35d2f0dce2e24668b5a271f7c4631005",
            "9376d79a29eb485eae09388dc20751a9",
            "5368e7aa904f4312a2e2505ed3835f9e",
            "0bf46453c838449e902ed0e0edcf3e95",
            "649a973f8cdf46f3b5858b958b6113f6",
            "75d65ed7f1ba417b91baf57831fb6d17",
            "4887dac4f01b40739d89f00fa70c8f19",
            "086e84044345480b988911b819380019",
            "6a1aae2f3abc44b7b307a75f9f8ee88e",
            "bebe2cbdcd4f48bb948d886f3c6cc074",
            "e2711a5af21143fb9c8265d8686467d1",
            "74064e3eb3c74fc5bd4d9ae65e2d899f",
            "e2273f47de934b178c485e65bc55333d",
            "5a44de43030c4e08b066b66fbb40a3d4",
            "b0aedd172bac47a5ba8784024a5674a8",
            "6ba26371a58f42e39fb2c6f9b35aaf50",
            "2f28838ad7004294b789cbb7ebd8930d",
            "201b6a240dd84c759187cd520e7a8c32",
            "c7543dacfbbe4826a0401d0e9102b84b",
            "12c83c6c26924844812d03aa3ad47fef",
            "870846c053b2416e93f441d359620979",
            "7e0dd8d0e679440399a60bf2a95490cf",
            "d1b8bec901f24e8384faba8b219047b9",
            "91eeab847d604f56b3b9d3a3d0a37d1b",
            "e1306015f2db49c0a4c5431a3b6a5ee6",
            "5507d17dda6d40378a4190ab034278fe",
            "8d73340c0ec64c03a445b936df96df0b",
            "6ffd46d035e842c8a665663a98f0c861",
            "1447ba5ab50a4f05b3a946f9de5d84fc",
            "1ecc248722a14a2f8af56a85535b3e3a",
            "60c66ceda92b4b8eafc23f036bab3d3f",
            "e53995ad5fc24f6ca092027fcbf0ff8c",
            "5148bec68a1346d6bab2630deb069e2d",
            "c5c724d822c04f03ac325a46ffbd1749",
            "f7a83fb9234c4b05930280ef812bf1dd",
            "3d16c81727ee4cb4a057c9c3fd56ced6",
            "f2ddfabe9aeb4e43974a1b58a1df0662",
            "334ba414447640c7853460b11b1e67d1",
            "ebb0ae581cf647abb46663ae119cab38",
            "436130933b9c4388b101fba3c2d08a24",
            "8c4881cd623a4d0489b0dc51ffb4d018",
            "b2a35b3b3f424f65af92e3f9455d25a6",
            "4c8afe7302054603b07a48d3eb47f6ee"
          ]
        },
        "id": "HlaDn0gVK0Fn",
        "outputId": "fa4a6511-c57a-40cb-fe04-ed794bac8d81"
      },
      "outputs": [
        {
          "output_type": "stream",
          "name": "stderr",
          "text": [
            "/usr/local/lib/python3.11/dist-packages/huggingface_hub/utils/_auth.py:94: UserWarning: \n",
            "The secret `HF_TOKEN` does not exist in your Colab secrets.\n",
            "To authenticate with the Hugging Face Hub, create a token in your settings tab (https://huggingface.co/settings/tokens), set it as secret in your Google Colab and restart your session.\n",
            "You will be able to reuse this secret in all of your notebooks.\n",
            "Please note that authentication is recommended but still optional to access public models or datasets.\n",
            "  warnings.warn(\n"
          ]
        },
        {
          "output_type": "display_data",
          "data": {
            "text/plain": [
              "config.json:   0%|          | 0.00/1.15k [00:00<?, ?B/s]"
            ],
            "application/vnd.jupyter.widget-view+json": {
              "version_major": 2,
              "version_minor": 0,
              "model_id": "5cc2eb6d08a4490dae6566321d6a5e00"
            }
          },
          "metadata": {}
        },
        {
          "output_type": "display_data",
          "data": {
            "text/plain": [
              "model.safetensors:   0%|          | 0.00/1.63G [00:00<?, ?B/s]"
            ],
            "application/vnd.jupyter.widget-view+json": {
              "version_major": 2,
              "version_minor": 0,
              "model_id": "b839f3d8823249618ed26a85b1d3388d"
            }
          },
          "metadata": {}
        },
        {
          "output_type": "display_data",
          "data": {
            "text/plain": [
              "tokenizer_config.json:   0%|          | 0.00/26.0 [00:00<?, ?B/s]"
            ],
            "application/vnd.jupyter.widget-view+json": {
              "version_major": 2,
              "version_minor": 0,
              "model_id": "60d6ff74ab9f4b408feae00f2b89dd75"
            }
          },
          "metadata": {}
        },
        {
          "output_type": "display_data",
          "data": {
            "text/plain": [
              "vocab.json:   0%|          | 0.00/899k [00:00<?, ?B/s]"
            ],
            "application/vnd.jupyter.widget-view+json": {
              "version_major": 2,
              "version_minor": 0,
              "model_id": "e2711a5af21143fb9c8265d8686467d1"
            }
          },
          "metadata": {}
        },
        {
          "output_type": "display_data",
          "data": {
            "text/plain": [
              "merges.txt:   0%|          | 0.00/456k [00:00<?, ?B/s]"
            ],
            "application/vnd.jupyter.widget-view+json": {
              "version_major": 2,
              "version_minor": 0,
              "model_id": "7e0dd8d0e679440399a60bf2a95490cf"
            }
          },
          "metadata": {}
        },
        {
          "output_type": "display_data",
          "data": {
            "text/plain": [
              "tokenizer.json:   0%|          | 0.00/1.36M [00:00<?, ?B/s]"
            ],
            "application/vnd.jupyter.widget-view+json": {
              "version_major": 2,
              "version_minor": 0,
              "model_id": "5148bec68a1346d6bab2630deb069e2d"
            }
          },
          "metadata": {}
        },
        {
          "output_type": "stream",
          "name": "stderr",
          "text": [
            "Device set to use cpu\n"
          ]
        }
      ],
      "source": [
        "from transformers import pipeline\n",
        "\n",
        "# Créer un pipeline pour la classification de texte\n",
        "classifier = pipeline(\"zero-shot-classification\", model=\"facebook/bart-large-mnli\")"
      ]
    },
    {
      "cell_type": "code",
      "execution_count": null,
      "metadata": {
        "colab": {
          "base_uri": "https://localhost:8080/"
        },
        "id": "oiYOp3jJ0Yqk",
        "outputId": "ed2cfa2f-c992-45a0-eb53-6be1c187f262"
      },
      "outputs": [
        {
          "output_type": "stream",
          "name": "stdout",
          "text": [
            "{'sequence': \"j'aime les repas de l'asie de l'Est\", 'labels': ['non-vegetarian', 'non-vegan', 'pescatarian', 'paleo', 'omnivore', 'ketogenic', 'vegetarian', 'vegan'], 'scores': [0.3223329484462738, 0.27310770750045776, 0.22097794711589813, 0.06264303624629974, 0.057116150856018066, 0.033554162830114365, 0.021428048610687256, 0.008839981630444527]}\n",
            "{'sequence': \"j'aime les repas de l'asie de l'Est\", 'labels': ['indian', 'japanese', 'chinese'], 'scores': [0.5963707566261292, 0.22059422731399536, 0.1830349862575531]}\n",
            "Extracted Filter Criteria: {'diet': [], 'cuisine': []}\n"
          ]
        },
        {
          "output_type": "execute_result",
          "data": {
            "text/plain": [
              "{'diet': [], 'cuisine': []}"
            ]
          },
          "metadata": {},
          "execution_count": 18
        }
      ],
      "source": [
        "# Fonction pour classer le texte\n",
        "def classifyText(text, labels):\n",
        "    result = classifier(text, candidate_labels=labels)\n",
        "    return result\n",
        "\n",
        "# fonction de filtrage de critère\n",
        "def extractFilterCriteria(query):\n",
        "\n",
        "  criteria = {\n",
        "      \"diet\":[], \"cuisine\":[]\n",
        "  }\n",
        "  dietlabels = [\"vegan\", \"non-vegan\", \"vegetarian\", \"non-vegetarian\", \"pescatarian\", \"omnivore\", \"paleo\", \"ketogenic\"]\n",
        "  cuisineLabels = [\"chinese\", \"indian\", \"japanese\"]\n",
        "\n",
        "  dietResult = classifyText(query, dietlabels)\n",
        "  print(dietResult)\n",
        "  highestDietScoreLabel = dietResult[\"labels\"][0]\n",
        "  dietScore = dietResult['scores'][0]\n",
        "\n",
        "  if dietScore > 0.8:\n",
        "    criteria[\"diet\"].append(highestDietScoreLabel)\n",
        "  else:\n",
        "    cuisineResult = classifyText(query, cuisineLabels)\n",
        "    print(cuisineResult)\n",
        "    highestCuisineScoreLabel = cuisineResult[\"labels\"][0]\n",
        "    cuisineScore = cuisineResult['scores'][0]\n",
        "\n",
        "    if cuisineScore > 0.8:\n",
        "      criteria[\"cuisine\"].append(highestCuisineScoreLabel)\n",
        "\n",
        "  print('Extracted Filter Criteria:', criteria)\n",
        "\n",
        "  return criteria\n",
        "\n",
        "extractFilterCriteria(\"j'aime les repas de l'asie de l'Est\")"
      ]
    },
    {
      "cell_type": "markdown",
      "metadata": {
        "id": "JNzcnnrFLA1b"
      },
      "source": [
        "### Recherche de similarité (interrogation)"
      ]
    },
    {
      "cell_type": "code",
      "execution_count": null,
      "metadata": {
        "id": "kMykQpviK_pE"
      },
      "outputs": [],
      "source": [
        "def performSimilaritySearch(collection, queryTerm):\n",
        "\n",
        "  try:\n",
        "\n",
        "    query_embedding = generateEmbeddings([queryTerm])\n",
        "\n",
        "    results = collection.query(\n",
        "        query_embeddings= query_embedding,\n",
        "        n_results= 5,\n",
        "    )\n",
        "\n",
        "    if len(results) == 0:\n",
        "      return \"Auun document trouvé\"\n",
        "    else:\n",
        "\n",
        "      top_foodItems = [\n",
        "          {\n",
        "              'ids': [food_id for food_id in results['ids'][0]],\n",
        "              'distances': [distance for distance in results['distances'][0]],\n",
        "              'food_names': [food_name['food_name'] for food_name in results['metadatas'][0]]\n",
        "          }\n",
        "          for index, id in enumerate(results['ids'][0])\n",
        "      ]\n",
        "\n",
        "    return top_foodItems\n",
        "\n",
        "  except Exception as e:\n",
        "    print(\"Exception:\", e)\n"
      ]
    },
    {
      "cell_type": "markdown",
      "metadata": {
        "id": "zDdD5qvfLGBL"
      },
      "source": [
        "### Fonction principale"
      ]
    },
    {
      "cell_type": "code",
      "execution_count": null,
      "metadata": {
        "id": "q5beFDTXSnCS"
      },
      "outputs": [],
      "source": [
        "def main(collection_name, query):\n",
        "\n",
        "  try:\n",
        "\n",
        "    collection = chroma_client.get_or_create_collection(name=collection_name)\n",
        "    print(\"Collection created or retrieved successfully!\")\n",
        "\n",
        "    uniqueIds = [f\"{food['food_id']}_{i}\" for i, food in enumerate(foodItems)]\n",
        "    foodTexts = [\n",
        "      f\"{food['food_name']}. {food['food_description']}. Ingredients: {', '.join(food['food_ingredients'])}\"\n",
        "      for food in foodItems\n",
        "    ]\n",
        "    embeddingsData = generateEmbeddings(foodTexts)\n",
        "    metadata = [\n",
        "      {\n",
        "        'food_name': food['food_name']\n",
        "      } for food in foodItems\n",
        "    ]\n",
        "\n",
        "    # ajouter le ids, documents et embeddings à la collection\n",
        "    collection.add(\n",
        "        ids = uniqueIds,\n",
        "        documents = foodTexts,\n",
        "        metadatas = metadata,\n",
        "        embeddings= embeddingsData\n",
        "    )\n",
        "\n",
        "    #filterCriteria = extractFilterCriteria_gemini(query)\n",
        "    #print(filterCriteria)\n",
        "    initialResults = performSimilaritySearch(collection, query)\n",
        "\n",
        "\n",
        "    for index, item in enumerate(initialResults[0][\"food_names\"]):\n",
        "      print(f\"Top {index + 1} Recommended Food Name: {item}\")\n",
        "\n",
        "  except Exception as e:\n",
        "\n",
        "    print(\"Exception:\", e)"
      ]
    },
    {
      "cell_type": "code",
      "execution_count": null,
      "metadata": {
        "colab": {
          "base_uri": "https://localhost:8080/"
        },
        "id": "buqzRsf7Qpn9",
        "outputId": "91498466-bb10-4ad9-fbbc-f9c60a683f91"
      },
      "outputs": [
        {
          "output_type": "stream",
          "name": "stdout",
          "text": [
            "Collection created or retrieved successfully!\n",
            "Top 1 Recommended Food Name: Salted Roasted Rice Crackers\n",
            "Top 2 Recommended Food Name: Garlic Bread\n",
            "Top 3 Recommended Food Name: Salted Roasted Mixed Seeds\n",
            "Top 4 Recommended Food Name: Pad Thai\n",
            "Top 5 Recommended Food Name: Vegetable Stir Fry\n"
          ]
        }
      ],
      "source": [
        "chroma_client.delete_collection(collectionName)\n",
        "query = \"egg, butter and rice\"\n",
        "main(collectionName, query)"
      ]
    },
    {
      "cell_type": "markdown",
      "metadata": {
        "id": "PDJOxwjMfRnh"
      },
      "source": [
        "# Food recommendations from a PDF recipe"
      ]
    },
    {
      "cell_type": "markdown",
      "metadata": {
        "id": "-Xd0EzOb8Rc8"
      },
      "source": [
        "### Uploader les données"
      ]
    },
    {
      "cell_type": "code",
      "execution_count": null,
      "metadata": {
        "colab": {
          "base_uri": "https://localhost:8080/"
        },
        "collapsed": true,
        "id": "8yycSY_DfT9m",
        "outputId": "7eb3a157-85b3-4241-89e8-b14a8549d49a"
      },
      "outputs": [
        {
          "output_type": "stream",
          "name": "stdout",
          "text": [
            "--2025-02-10 08:22:25--  https://cf-courses-data.s3.us.cloud-object-storage.appdomain.cloud/HoMe0o66TlJJ-WrIcR_8HQ/Chocolate-torte-Recipe.pdf\n",
            "Resolving cf-courses-data.s3.us.cloud-object-storage.appdomain.cloud (cf-courses-data.s3.us.cloud-object-storage.appdomain.cloud)... 169.63.118.104\n",
            "Connecting to cf-courses-data.s3.us.cloud-object-storage.appdomain.cloud (cf-courses-data.s3.us.cloud-object-storage.appdomain.cloud)|169.63.118.104|:443... connected.\n",
            "HTTP request sent, awaiting response... 200 OK\n",
            "Length: 197687 (193K) [application/pdf]\n",
            "Saving to: ‘Chocolate-torte-Recipe.pdf’\n",
            "\n",
            "Chocolate-torte-Rec 100%[===================>] 193.05K  --.-KB/s    in 0.1s    \n",
            "\n",
            "2025-02-10 08:22:25 (1.67 MB/s) - ‘Chocolate-torte-Recipe.pdf’ saved [197687/197687]\n",
            "\n"
          ]
        }
      ],
      "source": [
        "!wget https://cf-courses-data.s3.us.cloud-object-storage.appdomain.cloud/HoMe0o66TlJJ-WrIcR_8HQ/Chocolate-torte-Recipe.pdf"
      ]
    },
    {
      "cell_type": "code",
      "execution_count": null,
      "metadata": {
        "colab": {
          "base_uri": "https://localhost:8080/"
        },
        "collapsed": true,
        "id": "2Cz5nnkHfUCw",
        "outputId": "148fd198-d448-48b7-c401-781a8274a72d"
      },
      "outputs": [
        {
          "output_type": "stream",
          "name": "stdout",
          "text": [
            "--2025-02-10 08:22:28--  https://cf-courses-data.s3.us.cloud-object-storage.appdomain.cloud/GvUxpXUD-oy1h5z-qKoVFg/crumble-pie.pdf\n",
            "Resolving cf-courses-data.s3.us.cloud-object-storage.appdomain.cloud (cf-courses-data.s3.us.cloud-object-storage.appdomain.cloud)... 169.63.118.104\n",
            "Connecting to cf-courses-data.s3.us.cloud-object-storage.appdomain.cloud (cf-courses-data.s3.us.cloud-object-storage.appdomain.cloud)|169.63.118.104|:443... connected.\n",
            "HTTP request sent, awaiting response... 200 OK\n",
            "Length: 248041 (242K) [application/pdf]\n",
            "Saving to: ‘crumble-pie.pdf’\n",
            "\n",
            "crumble-pie.pdf     100%[===================>] 242.23K  --.-KB/s    in 0.1s    \n",
            "\n",
            "2025-02-10 08:22:29 (1.70 MB/s) - ‘crumble-pie.pdf’ saved [248041/248041]\n",
            "\n"
          ]
        }
      ],
      "source": [
        "!wget https://cf-courses-data.s3.us.cloud-object-storage.appdomain.cloud/GvUxpXUD-oy1h5z-qKoVFg/crumble-pie.pdf"
      ]
    },
    {
      "cell_type": "code",
      "execution_count": null,
      "metadata": {
        "id": "CQh5lM7CfUEs"
      },
      "outputs": [],
      "source": [
        "collectionName = \"recipe_food\""
      ]
    },
    {
      "cell_type": "code",
      "execution_count": null,
      "metadata": {
        "id": "OoBUKsv9fUGe"
      },
      "outputs": [],
      "source": [
        "from PyPDF2 import PdfReader\n",
        "\n",
        "def extractTextFromPDF(filepath):\n",
        "\n",
        "  # Ouvrir le fichier PDF\n",
        "  reader = PdfReader(filepath)\n",
        "\n",
        "  # Obtenir le nombre de pages\n",
        "  number_of_pages = len(reader.pages)\n",
        "\n",
        "  # Extraire le texte de toutes les pages\n",
        "  text = \"\"\n",
        "  for page_num in range(number_of_pages):\n",
        "      page = reader.pages[page_num]\n",
        "      text += page.extract_text()\n",
        "\n",
        "  # Afficher le texte\n",
        "  text = text.replace(\"\\n\", \" \").replace(\"  \", \" \")\n",
        "\n",
        "  return text\n",
        "#text = extractTextFromPDF(\"crumble-pie.pdf\")"
      ]
    },
    {
      "cell_type": "code",
      "source": [
        "def promptUserInput(query):\n",
        "  path = str(input(\"Entrer le chemin du fichier : \"))\n",
        "  return path"
      ],
      "metadata": {
        "id": "z68Ii6yklR_8"
      },
      "execution_count": null,
      "outputs": []
    },
    {
      "cell_type": "code",
      "source": [
        "import ast\n",
        "\n",
        "def extractIngredients_gemini(text):\n",
        "\n",
        "\n",
        "  prompt = f\"\"\"\n",
        "\n",
        "    Act as an expert in text processing and structured data extraction. Your task is to extract\n",
        "    only the ingredients from the following recipe text while maintaining without their quantities\n",
        "    and units.  Remove any quantities !!!,  Return the list in a structured format\n",
        "\n",
        "    Here is the text:{text}\n",
        "\n",
        "    Return the result as a python list where each ingredient is a separate item !\n",
        "    The result must be only a list like : ['first ingredient', 'second ingredient', ...] !!!\n",
        "\n",
        "    \"\"\"\n",
        "\n",
        "  response = model.generate_content(prompt)\n",
        "\n",
        "  liste_ingredients = ast.literal_eval(response.text)\n",
        "\n",
        "  ingredients = list(set(liste_ingredients))\n",
        "\n",
        "  return ingredients\n",
        "\n",
        "#extractFilterCriteria_gemini(text)"
      ],
      "metadata": {
        "id": "7ogGLjmodP0N"
      },
      "execution_count": null,
      "outputs": []
    },
    {
      "cell_type": "code",
      "source": [
        "def storeEmbeddingsInChromaDB(foodItems):\n",
        "\n",
        "  foodEmbeddings = []\n",
        "  metadatas = [\n",
        "      {\n",
        "        'food_name': food['food_name']\n",
        "      } for food in foodItems\n",
        "    ]\n",
        "\n",
        "  for item in foodItems:\n",
        "    texte = \" \".join(item[\"food_ingredients\"])\n",
        "\n",
        "    embedding = generateEmbeddings(texte)\n",
        "\n",
        "    foodEmbeddings.append(embedding)\n",
        "\n",
        "  ids = [f\"{food['food_id']}_{i}\" for i, food in enumerate(foodItems)]\n",
        "\n",
        "  foodTexts = [\n",
        "      f\"Ingredients: {', '.join(food['food_ingredients'])}\"\n",
        "      for food in foodItems\n",
        "    ]\n",
        "\n",
        "  try:\n",
        "\n",
        "    collection = chroma_client.get_or_create_collection(name=collectionName)\n",
        "    print(\"ok\")\n",
        "\n",
        "    collection.add(\n",
        "        ids = ids,\n",
        "        documents = foodTexts,\n",
        "        metadatas = metadatas,\n",
        "        embeddings= foodEmbeddings\n",
        "    )\n",
        "    print(\"Embeddings stocker dans chromaDB \")\n",
        "\n",
        "  except Exception as e:\n",
        "    print(\"Exception store :\", e)\n",
        "\n",
        "  return collection"
      ],
      "metadata": {
        "id": "Wx8FvBHWlSC0"
      },
      "execution_count": null,
      "outputs": []
    },
    {
      "cell_type": "code",
      "source": [
        "def main():\n",
        "\n",
        "  try:\n",
        "\n",
        "    collection = storeEmbeddingsInChromaDB(foodItems)\n",
        "    print(collection)\n",
        "    #filepath = promptUserInput(query)\n",
        "    text = extractTextFromPDF('Chocolate-torte-Recipe.pdf')\n",
        "    ingredients = extractIngredients_gemini(text)\n",
        "\n",
        "    if len(ingredients) > 0:\n",
        "\n",
        "      print(\"Ingredients extraient : \", ingredients)\n",
        "\n",
        "      recipeEmbedding = generateEmbeddings(\" \".join(str(ingredient) for ingredient in ingredients))\n",
        "\n",
        "      results = collection.query(\n",
        "          query_embeddings= [recipeEmbedding],\n",
        "          n_results= 5,\n",
        "      )\n",
        "\n",
        "      if len(results) == 0:\n",
        "        return \"Auun document trouvé\"\n",
        "      else:\n",
        "\n",
        "        top_foodItems = [\n",
        "            {\n",
        "                'ids': [food_id for food_id in results['ids'][0]],\n",
        "                'distances': [distance for distance in results['distances'][0]],\n",
        "                'food_names': [food_name['food_name'] for food_name in results['metadatas'][0]]\n",
        "            }\n",
        "            for index, id in enumerate(results['ids'][0])\n",
        "        ]\n",
        "        print(top_foodItems)\n",
        "        if top_foodItems:\n",
        "          for index, item in enumerate(top_foodItems[0][\"food_names\"]):\n",
        "            print(f\"Top {index + 1} Recommended Food Name: {item}\")\n",
        "        else:\n",
        "          print(\"Aucun résultat trouvé.\")\n",
        "\n",
        "    else:\n",
        "      print(\"Aucun ingrédient trouvé\")\n",
        "\n",
        "  except Exception as e:\n",
        "\n",
        "    print(\"Exception main \", e)"
      ],
      "metadata": {
        "id": "aJqFLZO1pHyg"
      },
      "execution_count": null,
      "outputs": []
    },
    {
      "cell_type": "code",
      "source": [
        "main()"
      ],
      "metadata": {
        "colab": {
          "base_uri": "https://localhost:8080/",
          "height": 203
        },
        "id": "1_3BcAtqpH1f",
        "outputId": "bbc7b1c0-6f6d-436b-fd32-eaec0dbdbdaa"
      },
      "execution_count": null,
      "outputs": [
        {
          "output_type": "stream",
          "name": "stdout",
          "text": [
            "ok\n",
            "Embeddings stocker dans chromaDB \n",
            "Ingredients extraient :  ['unsalted butter', 'large eggs', 'vanilla extract', 'cocoa powder', 'dark chocolate', 'granulated sugar', 'salt', 'almond flour', 'whipped cream', 'fresh berries', 'heavy cream']\n",
            "[{'ids': ['chocolate_2_129', '2_1', 'chocolate_1_128', '16_15', '5_4'], 'distances': [0.47074493765830994, 0.4835055470466614, 0.554291844367981, 0.5568122863769531, 0.5622150897979736], 'food_names': ['Chocolate Lava Cake', 'Chocolate Cake', 'Classic Chocolate Cake', 'Profiteroles', 'Cheesecake']}, {'ids': ['chocolate_2_129', '2_1', 'chocolate_1_128', '16_15', '5_4'], 'distances': [0.47074493765830994, 0.4835055470466614, 0.554291844367981, 0.5568122863769531, 0.5622150897979736], 'food_names': ['Chocolate Lava Cake', 'Chocolate Cake', 'Classic Chocolate Cake', 'Profiteroles', 'Cheesecake']}, {'ids': ['chocolate_2_129', '2_1', 'chocolate_1_128', '16_15', '5_4'], 'distances': [0.47074493765830994, 0.4835055470466614, 0.554291844367981, 0.5568122863769531, 0.5622150897979736], 'food_names': ['Chocolate Lava Cake', 'Chocolate Cake', 'Classic Chocolate Cake', 'Profiteroles', 'Cheesecake']}, {'ids': ['chocolate_2_129', '2_1', 'chocolate_1_128', '16_15', '5_4'], 'distances': [0.47074493765830994, 0.4835055470466614, 0.554291844367981, 0.5568122863769531, 0.5622150897979736], 'food_names': ['Chocolate Lava Cake', 'Chocolate Cake', 'Classic Chocolate Cake', 'Profiteroles', 'Cheesecake']}, {'ids': ['chocolate_2_129', '2_1', 'chocolate_1_128', '16_15', '5_4'], 'distances': [0.47074493765830994, 0.4835055470466614, 0.554291844367981, 0.5568122863769531, 0.5622150897979736], 'food_names': ['Chocolate Lava Cake', 'Chocolate Cake', 'Classic Chocolate Cake', 'Profiteroles', 'Cheesecake']}]\n",
            "Top 1 Recommended Food Name: Chocolate Lava Cake\n",
            "Top 2 Recommended Food Name: Chocolate Cake\n",
            "Top 3 Recommended Food Name: Classic Chocolate Cake\n",
            "Top 4 Recommended Food Name: Profiteroles\n",
            "Top 5 Recommended Food Name: Cheesecake\n"
          ]
        }
      ]
    },
    {
      "cell_type": "code",
      "source": [
        "# supprimer la collection\n",
        "chroma_client.delete_collection(collectionName)"
      ],
      "metadata": {
        "id": "rSFhZG-oG7QB"
      },
      "execution_count": null,
      "outputs": []
    }
  ],
  "metadata": {
    "colab": {
      "provenance": []
    },
    "kernelspec": {
      "display_name": "Python 3",
      "name": "python3"
    },
    "language_info": {
      "name": "python"
    },
    "widgets": {
      "application/vnd.jupyter.widget-state+json": {
        "5cc2eb6d08a4490dae6566321d6a5e00": {
          "model_module": "@jupyter-widgets/controls",
          "model_name": "HBoxModel",
          "model_module_version": "1.5.0",
          "state": {
            "_dom_classes": [],
            "_model_module": "@jupyter-widgets/controls",
            "_model_module_version": "1.5.0",
            "_model_name": "HBoxModel",
            "_view_count": null,
            "_view_module": "@jupyter-widgets/controls",
            "_view_module_version": "1.5.0",
            "_view_name": "HBoxView",
            "box_style": "",
            "children": [
              "IPY_MODEL_9de641c8d7a0413790aa52d0ac6d36cc",
              "IPY_MODEL_3a78369c2f174eb597912e130c652511",
              "IPY_MODEL_d223d958797c40a29b12910ae8706585"
            ],
            "layout": "IPY_MODEL_521c8fd533594d72bd877f6de9dca0dc"
          }
        },
        "9de641c8d7a0413790aa52d0ac6d36cc": {
          "model_module": "@jupyter-widgets/controls",
          "model_name": "HTMLModel",
          "model_module_version": "1.5.0",
          "state": {
            "_dom_classes": [],
            "_model_module": "@jupyter-widgets/controls",
            "_model_module_version": "1.5.0",
            "_model_name": "HTMLModel",
            "_view_count": null,
            "_view_module": "@jupyter-widgets/controls",
            "_view_module_version": "1.5.0",
            "_view_name": "HTMLView",
            "description": "",
            "description_tooltip": null,
            "layout": "IPY_MODEL_f03a15ffde704bb9812506542a4331f8",
            "placeholder": "​",
            "style": "IPY_MODEL_2b27829fd9734800b6db91f228e984e2",
            "value": "config.json: 100%"
          }
        },
        "3a78369c2f174eb597912e130c652511": {
          "model_module": "@jupyter-widgets/controls",
          "model_name": "FloatProgressModel",
          "model_module_version": "1.5.0",
          "state": {
            "_dom_classes": [],
            "_model_module": "@jupyter-widgets/controls",
            "_model_module_version": "1.5.0",
            "_model_name": "FloatProgressModel",
            "_view_count": null,
            "_view_module": "@jupyter-widgets/controls",
            "_view_module_version": "1.5.0",
            "_view_name": "ProgressView",
            "bar_style": "success",
            "description": "",
            "description_tooltip": null,
            "layout": "IPY_MODEL_6fb48cdd8aa24fab91792e177bd82d71",
            "max": 1154,
            "min": 0,
            "orientation": "horizontal",
            "style": "IPY_MODEL_f3d885b247704c5abf80f129e0cb1609",
            "value": 1154
          }
        },
        "d223d958797c40a29b12910ae8706585": {
          "model_module": "@jupyter-widgets/controls",
          "model_name": "HTMLModel",
          "model_module_version": "1.5.0",
          "state": {
            "_dom_classes": [],
            "_model_module": "@jupyter-widgets/controls",
            "_model_module_version": "1.5.0",
            "_model_name": "HTMLModel",
            "_view_count": null,
            "_view_module": "@jupyter-widgets/controls",
            "_view_module_version": "1.5.0",
            "_view_name": "HTMLView",
            "description": "",
            "description_tooltip": null,
            "layout": "IPY_MODEL_9ca9e0a1534347f494f3d77e792137d4",
            "placeholder": "​",
            "style": "IPY_MODEL_2bccb241ff16405f8e26206fe07d93b4",
            "value": " 1.15k/1.15k [00:00&lt;00:00, 58.6kB/s]"
          }
        },
        "521c8fd533594d72bd877f6de9dca0dc": {
          "model_module": "@jupyter-widgets/base",
          "model_name": "LayoutModel",
          "model_module_version": "1.2.0",
          "state": {
            "_model_module": "@jupyter-widgets/base",
            "_model_module_version": "1.2.0",
            "_model_name": "LayoutModel",
            "_view_count": null,
            "_view_module": "@jupyter-widgets/base",
            "_view_module_version": "1.2.0",
            "_view_name": "LayoutView",
            "align_content": null,
            "align_items": null,
            "align_self": null,
            "border": null,
            "bottom": null,
            "display": null,
            "flex": null,
            "flex_flow": null,
            "grid_area": null,
            "grid_auto_columns": null,
            "grid_auto_flow": null,
            "grid_auto_rows": null,
            "grid_column": null,
            "grid_gap": null,
            "grid_row": null,
            "grid_template_areas": null,
            "grid_template_columns": null,
            "grid_template_rows": null,
            "height": null,
            "justify_content": null,
            "justify_items": null,
            "left": null,
            "margin": null,
            "max_height": null,
            "max_width": null,
            "min_height": null,
            "min_width": null,
            "object_fit": null,
            "object_position": null,
            "order": null,
            "overflow": null,
            "overflow_x": null,
            "overflow_y": null,
            "padding": null,
            "right": null,
            "top": null,
            "visibility": null,
            "width": null
          }
        },
        "f03a15ffde704bb9812506542a4331f8": {
          "model_module": "@jupyter-widgets/base",
          "model_name": "LayoutModel",
          "model_module_version": "1.2.0",
          "state": {
            "_model_module": "@jupyter-widgets/base",
            "_model_module_version": "1.2.0",
            "_model_name": "LayoutModel",
            "_view_count": null,
            "_view_module": "@jupyter-widgets/base",
            "_view_module_version": "1.2.0",
            "_view_name": "LayoutView",
            "align_content": null,
            "align_items": null,
            "align_self": null,
            "border": null,
            "bottom": null,
            "display": null,
            "flex": null,
            "flex_flow": null,
            "grid_area": null,
            "grid_auto_columns": null,
            "grid_auto_flow": null,
            "grid_auto_rows": null,
            "grid_column": null,
            "grid_gap": null,
            "grid_row": null,
            "grid_template_areas": null,
            "grid_template_columns": null,
            "grid_template_rows": null,
            "height": null,
            "justify_content": null,
            "justify_items": null,
            "left": null,
            "margin": null,
            "max_height": null,
            "max_width": null,
            "min_height": null,
            "min_width": null,
            "object_fit": null,
            "object_position": null,
            "order": null,
            "overflow": null,
            "overflow_x": null,
            "overflow_y": null,
            "padding": null,
            "right": null,
            "top": null,
            "visibility": null,
            "width": null
          }
        },
        "2b27829fd9734800b6db91f228e984e2": {
          "model_module": "@jupyter-widgets/controls",
          "model_name": "DescriptionStyleModel",
          "model_module_version": "1.5.0",
          "state": {
            "_model_module": "@jupyter-widgets/controls",
            "_model_module_version": "1.5.0",
            "_model_name": "DescriptionStyleModel",
            "_view_count": null,
            "_view_module": "@jupyter-widgets/base",
            "_view_module_version": "1.2.0",
            "_view_name": "StyleView",
            "description_width": ""
          }
        },
        "6fb48cdd8aa24fab91792e177bd82d71": {
          "model_module": "@jupyter-widgets/base",
          "model_name": "LayoutModel",
          "model_module_version": "1.2.0",
          "state": {
            "_model_module": "@jupyter-widgets/base",
            "_model_module_version": "1.2.0",
            "_model_name": "LayoutModel",
            "_view_count": null,
            "_view_module": "@jupyter-widgets/base",
            "_view_module_version": "1.2.0",
            "_view_name": "LayoutView",
            "align_content": null,
            "align_items": null,
            "align_self": null,
            "border": null,
            "bottom": null,
            "display": null,
            "flex": null,
            "flex_flow": null,
            "grid_area": null,
            "grid_auto_columns": null,
            "grid_auto_flow": null,
            "grid_auto_rows": null,
            "grid_column": null,
            "grid_gap": null,
            "grid_row": null,
            "grid_template_areas": null,
            "grid_template_columns": null,
            "grid_template_rows": null,
            "height": null,
            "justify_content": null,
            "justify_items": null,
            "left": null,
            "margin": null,
            "max_height": null,
            "max_width": null,
            "min_height": null,
            "min_width": null,
            "object_fit": null,
            "object_position": null,
            "order": null,
            "overflow": null,
            "overflow_x": null,
            "overflow_y": null,
            "padding": null,
            "right": null,
            "top": null,
            "visibility": null,
            "width": null
          }
        },
        "f3d885b247704c5abf80f129e0cb1609": {
          "model_module": "@jupyter-widgets/controls",
          "model_name": "ProgressStyleModel",
          "model_module_version": "1.5.0",
          "state": {
            "_model_module": "@jupyter-widgets/controls",
            "_model_module_version": "1.5.0",
            "_model_name": "ProgressStyleModel",
            "_view_count": null,
            "_view_module": "@jupyter-widgets/base",
            "_view_module_version": "1.2.0",
            "_view_name": "StyleView",
            "bar_color": null,
            "description_width": ""
          }
        },
        "9ca9e0a1534347f494f3d77e792137d4": {
          "model_module": "@jupyter-widgets/base",
          "model_name": "LayoutModel",
          "model_module_version": "1.2.0",
          "state": {
            "_model_module": "@jupyter-widgets/base",
            "_model_module_version": "1.2.0",
            "_model_name": "LayoutModel",
            "_view_count": null,
            "_view_module": "@jupyter-widgets/base",
            "_view_module_version": "1.2.0",
            "_view_name": "LayoutView",
            "align_content": null,
            "align_items": null,
            "align_self": null,
            "border": null,
            "bottom": null,
            "display": null,
            "flex": null,
            "flex_flow": null,
            "grid_area": null,
            "grid_auto_columns": null,
            "grid_auto_flow": null,
            "grid_auto_rows": null,
            "grid_column": null,
            "grid_gap": null,
            "grid_row": null,
            "grid_template_areas": null,
            "grid_template_columns": null,
            "grid_template_rows": null,
            "height": null,
            "justify_content": null,
            "justify_items": null,
            "left": null,
            "margin": null,
            "max_height": null,
            "max_width": null,
            "min_height": null,
            "min_width": null,
            "object_fit": null,
            "object_position": null,
            "order": null,
            "overflow": null,
            "overflow_x": null,
            "overflow_y": null,
            "padding": null,
            "right": null,
            "top": null,
            "visibility": null,
            "width": null
          }
        },
        "2bccb241ff16405f8e26206fe07d93b4": {
          "model_module": "@jupyter-widgets/controls",
          "model_name": "DescriptionStyleModel",
          "model_module_version": "1.5.0",
          "state": {
            "_model_module": "@jupyter-widgets/controls",
            "_model_module_version": "1.5.0",
            "_model_name": "DescriptionStyleModel",
            "_view_count": null,
            "_view_module": "@jupyter-widgets/base",
            "_view_module_version": "1.2.0",
            "_view_name": "StyleView",
            "description_width": ""
          }
        },
        "b839f3d8823249618ed26a85b1d3388d": {
          "model_module": "@jupyter-widgets/controls",
          "model_name": "HBoxModel",
          "model_module_version": "1.5.0",
          "state": {
            "_dom_classes": [],
            "_model_module": "@jupyter-widgets/controls",
            "_model_module_version": "1.5.0",
            "_model_name": "HBoxModel",
            "_view_count": null,
            "_view_module": "@jupyter-widgets/controls",
            "_view_module_version": "1.5.0",
            "_view_name": "HBoxView",
            "box_style": "",
            "children": [
              "IPY_MODEL_53c60a9a6bd24d42898039dd015d0f43",
              "IPY_MODEL_95cea74ace134687ab4bf48fd27f66e1",
              "IPY_MODEL_9906db6c421c4974a89bea0359800501"
            ],
            "layout": "IPY_MODEL_5841138cc91e4dc19d04e4b5b19be6e6"
          }
        },
        "53c60a9a6bd24d42898039dd015d0f43": {
          "model_module": "@jupyter-widgets/controls",
          "model_name": "HTMLModel",
          "model_module_version": "1.5.0",
          "state": {
            "_dom_classes": [],
            "_model_module": "@jupyter-widgets/controls",
            "_model_module_version": "1.5.0",
            "_model_name": "HTMLModel",
            "_view_count": null,
            "_view_module": "@jupyter-widgets/controls",
            "_view_module_version": "1.5.0",
            "_view_name": "HTMLView",
            "description": "",
            "description_tooltip": null,
            "layout": "IPY_MODEL_0991fa39f2a44defa4b9a23d8fe0c9ec",
            "placeholder": "​",
            "style": "IPY_MODEL_d1d89002913a4ac5b0bf338ac272b105",
            "value": "model.safetensors: 100%"
          }
        },
        "95cea74ace134687ab4bf48fd27f66e1": {
          "model_module": "@jupyter-widgets/controls",
          "model_name": "FloatProgressModel",
          "model_module_version": "1.5.0",
          "state": {
            "_dom_classes": [],
            "_model_module": "@jupyter-widgets/controls",
            "_model_module_version": "1.5.0",
            "_model_name": "FloatProgressModel",
            "_view_count": null,
            "_view_module": "@jupyter-widgets/controls",
            "_view_module_version": "1.5.0",
            "_view_name": "ProgressView",
            "bar_style": "success",
            "description": "",
            "description_tooltip": null,
            "layout": "IPY_MODEL_ae37484546de41abae817ea5afc97807",
            "max": 1629437147,
            "min": 0,
            "orientation": "horizontal",
            "style": "IPY_MODEL_157909fd910649108c8dbd8ed657cd46",
            "value": 1629437147
          }
        },
        "9906db6c421c4974a89bea0359800501": {
          "model_module": "@jupyter-widgets/controls",
          "model_name": "HTMLModel",
          "model_module_version": "1.5.0",
          "state": {
            "_dom_classes": [],
            "_model_module": "@jupyter-widgets/controls",
            "_model_module_version": "1.5.0",
            "_model_name": "HTMLModel",
            "_view_count": null,
            "_view_module": "@jupyter-widgets/controls",
            "_view_module_version": "1.5.0",
            "_view_name": "HTMLView",
            "description": "",
            "description_tooltip": null,
            "layout": "IPY_MODEL_3dba7918a50d455a9afb2909097d22c6",
            "placeholder": "​",
            "style": "IPY_MODEL_38acc8610b464c3ca6b123612528de7b",
            "value": " 1.63G/1.63G [00:14&lt;00:00, 124MB/s]"
          }
        },
        "5841138cc91e4dc19d04e4b5b19be6e6": {
          "model_module": "@jupyter-widgets/base",
          "model_name": "LayoutModel",
          "model_module_version": "1.2.0",
          "state": {
            "_model_module": "@jupyter-widgets/base",
            "_model_module_version": "1.2.0",
            "_model_name": "LayoutModel",
            "_view_count": null,
            "_view_module": "@jupyter-widgets/base",
            "_view_module_version": "1.2.0",
            "_view_name": "LayoutView",
            "align_content": null,
            "align_items": null,
            "align_self": null,
            "border": null,
            "bottom": null,
            "display": null,
            "flex": null,
            "flex_flow": null,
            "grid_area": null,
            "grid_auto_columns": null,
            "grid_auto_flow": null,
            "grid_auto_rows": null,
            "grid_column": null,
            "grid_gap": null,
            "grid_row": null,
            "grid_template_areas": null,
            "grid_template_columns": null,
            "grid_template_rows": null,
            "height": null,
            "justify_content": null,
            "justify_items": null,
            "left": null,
            "margin": null,
            "max_height": null,
            "max_width": null,
            "min_height": null,
            "min_width": null,
            "object_fit": null,
            "object_position": null,
            "order": null,
            "overflow": null,
            "overflow_x": null,
            "overflow_y": null,
            "padding": null,
            "right": null,
            "top": null,
            "visibility": null,
            "width": null
          }
        },
        "0991fa39f2a44defa4b9a23d8fe0c9ec": {
          "model_module": "@jupyter-widgets/base",
          "model_name": "LayoutModel",
          "model_module_version": "1.2.0",
          "state": {
            "_model_module": "@jupyter-widgets/base",
            "_model_module_version": "1.2.0",
            "_model_name": "LayoutModel",
            "_view_count": null,
            "_view_module": "@jupyter-widgets/base",
            "_view_module_version": "1.2.0",
            "_view_name": "LayoutView",
            "align_content": null,
            "align_items": null,
            "align_self": null,
            "border": null,
            "bottom": null,
            "display": null,
            "flex": null,
            "flex_flow": null,
            "grid_area": null,
            "grid_auto_columns": null,
            "grid_auto_flow": null,
            "grid_auto_rows": null,
            "grid_column": null,
            "grid_gap": null,
            "grid_row": null,
            "grid_template_areas": null,
            "grid_template_columns": null,
            "grid_template_rows": null,
            "height": null,
            "justify_content": null,
            "justify_items": null,
            "left": null,
            "margin": null,
            "max_height": null,
            "max_width": null,
            "min_height": null,
            "min_width": null,
            "object_fit": null,
            "object_position": null,
            "order": null,
            "overflow": null,
            "overflow_x": null,
            "overflow_y": null,
            "padding": null,
            "right": null,
            "top": null,
            "visibility": null,
            "width": null
          }
        },
        "d1d89002913a4ac5b0bf338ac272b105": {
          "model_module": "@jupyter-widgets/controls",
          "model_name": "DescriptionStyleModel",
          "model_module_version": "1.5.0",
          "state": {
            "_model_module": "@jupyter-widgets/controls",
            "_model_module_version": "1.5.0",
            "_model_name": "DescriptionStyleModel",
            "_view_count": null,
            "_view_module": "@jupyter-widgets/base",
            "_view_module_version": "1.2.0",
            "_view_name": "StyleView",
            "description_width": ""
          }
        },
        "ae37484546de41abae817ea5afc97807": {
          "model_module": "@jupyter-widgets/base",
          "model_name": "LayoutModel",
          "model_module_version": "1.2.0",
          "state": {
            "_model_module": "@jupyter-widgets/base",
            "_model_module_version": "1.2.0",
            "_model_name": "LayoutModel",
            "_view_count": null,
            "_view_module": "@jupyter-widgets/base",
            "_view_module_version": "1.2.0",
            "_view_name": "LayoutView",
            "align_content": null,
            "align_items": null,
            "align_self": null,
            "border": null,
            "bottom": null,
            "display": null,
            "flex": null,
            "flex_flow": null,
            "grid_area": null,
            "grid_auto_columns": null,
            "grid_auto_flow": null,
            "grid_auto_rows": null,
            "grid_column": null,
            "grid_gap": null,
            "grid_row": null,
            "grid_template_areas": null,
            "grid_template_columns": null,
            "grid_template_rows": null,
            "height": null,
            "justify_content": null,
            "justify_items": null,
            "left": null,
            "margin": null,
            "max_height": null,
            "max_width": null,
            "min_height": null,
            "min_width": null,
            "object_fit": null,
            "object_position": null,
            "order": null,
            "overflow": null,
            "overflow_x": null,
            "overflow_y": null,
            "padding": null,
            "right": null,
            "top": null,
            "visibility": null,
            "width": null
          }
        },
        "157909fd910649108c8dbd8ed657cd46": {
          "model_module": "@jupyter-widgets/controls",
          "model_name": "ProgressStyleModel",
          "model_module_version": "1.5.0",
          "state": {
            "_model_module": "@jupyter-widgets/controls",
            "_model_module_version": "1.5.0",
            "_model_name": "ProgressStyleModel",
            "_view_count": null,
            "_view_module": "@jupyter-widgets/base",
            "_view_module_version": "1.2.0",
            "_view_name": "StyleView",
            "bar_color": null,
            "description_width": ""
          }
        },
        "3dba7918a50d455a9afb2909097d22c6": {
          "model_module": "@jupyter-widgets/base",
          "model_name": "LayoutModel",
          "model_module_version": "1.2.0",
          "state": {
            "_model_module": "@jupyter-widgets/base",
            "_model_module_version": "1.2.0",
            "_model_name": "LayoutModel",
            "_view_count": null,
            "_view_module": "@jupyter-widgets/base",
            "_view_module_version": "1.2.0",
            "_view_name": "LayoutView",
            "align_content": null,
            "align_items": null,
            "align_self": null,
            "border": null,
            "bottom": null,
            "display": null,
            "flex": null,
            "flex_flow": null,
            "grid_area": null,
            "grid_auto_columns": null,
            "grid_auto_flow": null,
            "grid_auto_rows": null,
            "grid_column": null,
            "grid_gap": null,
            "grid_row": null,
            "grid_template_areas": null,
            "grid_template_columns": null,
            "grid_template_rows": null,
            "height": null,
            "justify_content": null,
            "justify_items": null,
            "left": null,
            "margin": null,
            "max_height": null,
            "max_width": null,
            "min_height": null,
            "min_width": null,
            "object_fit": null,
            "object_position": null,
            "order": null,
            "overflow": null,
            "overflow_x": null,
            "overflow_y": null,
            "padding": null,
            "right": null,
            "top": null,
            "visibility": null,
            "width": null
          }
        },
        "38acc8610b464c3ca6b123612528de7b": {
          "model_module": "@jupyter-widgets/controls",
          "model_name": "DescriptionStyleModel",
          "model_module_version": "1.5.0",
          "state": {
            "_model_module": "@jupyter-widgets/controls",
            "_model_module_version": "1.5.0",
            "_model_name": "DescriptionStyleModel",
            "_view_count": null,
            "_view_module": "@jupyter-widgets/base",
            "_view_module_version": "1.2.0",
            "_view_name": "StyleView",
            "description_width": ""
          }
        },
        "60d6ff74ab9f4b408feae00f2b89dd75": {
          "model_module": "@jupyter-widgets/controls",
          "model_name": "HBoxModel",
          "model_module_version": "1.5.0",
          "state": {
            "_dom_classes": [],
            "_model_module": "@jupyter-widgets/controls",
            "_model_module_version": "1.5.0",
            "_model_name": "HBoxModel",
            "_view_count": null,
            "_view_module": "@jupyter-widgets/controls",
            "_view_module_version": "1.5.0",
            "_view_name": "HBoxView",
            "box_style": "",
            "children": [
              "IPY_MODEL_35d2f0dce2e24668b5a271f7c4631005",
              "IPY_MODEL_9376d79a29eb485eae09388dc20751a9",
              "IPY_MODEL_5368e7aa904f4312a2e2505ed3835f9e"
            ],
            "layout": "IPY_MODEL_0bf46453c838449e902ed0e0edcf3e95"
          }
        },
        "35d2f0dce2e24668b5a271f7c4631005": {
          "model_module": "@jupyter-widgets/controls",
          "model_name": "HTMLModel",
          "model_module_version": "1.5.0",
          "state": {
            "_dom_classes": [],
            "_model_module": "@jupyter-widgets/controls",
            "_model_module_version": "1.5.0",
            "_model_name": "HTMLModel",
            "_view_count": null,
            "_view_module": "@jupyter-widgets/controls",
            "_view_module_version": "1.5.0",
            "_view_name": "HTMLView",
            "description": "",
            "description_tooltip": null,
            "layout": "IPY_MODEL_649a973f8cdf46f3b5858b958b6113f6",
            "placeholder": "​",
            "style": "IPY_MODEL_75d65ed7f1ba417b91baf57831fb6d17",
            "value": "tokenizer_config.json: 100%"
          }
        },
        "9376d79a29eb485eae09388dc20751a9": {
          "model_module": "@jupyter-widgets/controls",
          "model_name": "FloatProgressModel",
          "model_module_version": "1.5.0",
          "state": {
            "_dom_classes": [],
            "_model_module": "@jupyter-widgets/controls",
            "_model_module_version": "1.5.0",
            "_model_name": "FloatProgressModel",
            "_view_count": null,
            "_view_module": "@jupyter-widgets/controls",
            "_view_module_version": "1.5.0",
            "_view_name": "ProgressView",
            "bar_style": "success",
            "description": "",
            "description_tooltip": null,
            "layout": "IPY_MODEL_4887dac4f01b40739d89f00fa70c8f19",
            "max": 26,
            "min": 0,
            "orientation": "horizontal",
            "style": "IPY_MODEL_086e84044345480b988911b819380019",
            "value": 26
          }
        },
        "5368e7aa904f4312a2e2505ed3835f9e": {
          "model_module": "@jupyter-widgets/controls",
          "model_name": "HTMLModel",
          "model_module_version": "1.5.0",
          "state": {
            "_dom_classes": [],
            "_model_module": "@jupyter-widgets/controls",
            "_model_module_version": "1.5.0",
            "_model_name": "HTMLModel",
            "_view_count": null,
            "_view_module": "@jupyter-widgets/controls",
            "_view_module_version": "1.5.0",
            "_view_name": "HTMLView",
            "description": "",
            "description_tooltip": null,
            "layout": "IPY_MODEL_6a1aae2f3abc44b7b307a75f9f8ee88e",
            "placeholder": "​",
            "style": "IPY_MODEL_bebe2cbdcd4f48bb948d886f3c6cc074",
            "value": " 26.0/26.0 [00:00&lt;00:00, 1.68kB/s]"
          }
        },
        "0bf46453c838449e902ed0e0edcf3e95": {
          "model_module": "@jupyter-widgets/base",
          "model_name": "LayoutModel",
          "model_module_version": "1.2.0",
          "state": {
            "_model_module": "@jupyter-widgets/base",
            "_model_module_version": "1.2.0",
            "_model_name": "LayoutModel",
            "_view_count": null,
            "_view_module": "@jupyter-widgets/base",
            "_view_module_version": "1.2.0",
            "_view_name": "LayoutView",
            "align_content": null,
            "align_items": null,
            "align_self": null,
            "border": null,
            "bottom": null,
            "display": null,
            "flex": null,
            "flex_flow": null,
            "grid_area": null,
            "grid_auto_columns": null,
            "grid_auto_flow": null,
            "grid_auto_rows": null,
            "grid_column": null,
            "grid_gap": null,
            "grid_row": null,
            "grid_template_areas": null,
            "grid_template_columns": null,
            "grid_template_rows": null,
            "height": null,
            "justify_content": null,
            "justify_items": null,
            "left": null,
            "margin": null,
            "max_height": null,
            "max_width": null,
            "min_height": null,
            "min_width": null,
            "object_fit": null,
            "object_position": null,
            "order": null,
            "overflow": null,
            "overflow_x": null,
            "overflow_y": null,
            "padding": null,
            "right": null,
            "top": null,
            "visibility": null,
            "width": null
          }
        },
        "649a973f8cdf46f3b5858b958b6113f6": {
          "model_module": "@jupyter-widgets/base",
          "model_name": "LayoutModel",
          "model_module_version": "1.2.0",
          "state": {
            "_model_module": "@jupyter-widgets/base",
            "_model_module_version": "1.2.0",
            "_model_name": "LayoutModel",
            "_view_count": null,
            "_view_module": "@jupyter-widgets/base",
            "_view_module_version": "1.2.0",
            "_view_name": "LayoutView",
            "align_content": null,
            "align_items": null,
            "align_self": null,
            "border": null,
            "bottom": null,
            "display": null,
            "flex": null,
            "flex_flow": null,
            "grid_area": null,
            "grid_auto_columns": null,
            "grid_auto_flow": null,
            "grid_auto_rows": null,
            "grid_column": null,
            "grid_gap": null,
            "grid_row": null,
            "grid_template_areas": null,
            "grid_template_columns": null,
            "grid_template_rows": null,
            "height": null,
            "justify_content": null,
            "justify_items": null,
            "left": null,
            "margin": null,
            "max_height": null,
            "max_width": null,
            "min_height": null,
            "min_width": null,
            "object_fit": null,
            "object_position": null,
            "order": null,
            "overflow": null,
            "overflow_x": null,
            "overflow_y": null,
            "padding": null,
            "right": null,
            "top": null,
            "visibility": null,
            "width": null
          }
        },
        "75d65ed7f1ba417b91baf57831fb6d17": {
          "model_module": "@jupyter-widgets/controls",
          "model_name": "DescriptionStyleModel",
          "model_module_version": "1.5.0",
          "state": {
            "_model_module": "@jupyter-widgets/controls",
            "_model_module_version": "1.5.0",
            "_model_name": "DescriptionStyleModel",
            "_view_count": null,
            "_view_module": "@jupyter-widgets/base",
            "_view_module_version": "1.2.0",
            "_view_name": "StyleView",
            "description_width": ""
          }
        },
        "4887dac4f01b40739d89f00fa70c8f19": {
          "model_module": "@jupyter-widgets/base",
          "model_name": "LayoutModel",
          "model_module_version": "1.2.0",
          "state": {
            "_model_module": "@jupyter-widgets/base",
            "_model_module_version": "1.2.0",
            "_model_name": "LayoutModel",
            "_view_count": null,
            "_view_module": "@jupyter-widgets/base",
            "_view_module_version": "1.2.0",
            "_view_name": "LayoutView",
            "align_content": null,
            "align_items": null,
            "align_self": null,
            "border": null,
            "bottom": null,
            "display": null,
            "flex": null,
            "flex_flow": null,
            "grid_area": null,
            "grid_auto_columns": null,
            "grid_auto_flow": null,
            "grid_auto_rows": null,
            "grid_column": null,
            "grid_gap": null,
            "grid_row": null,
            "grid_template_areas": null,
            "grid_template_columns": null,
            "grid_template_rows": null,
            "height": null,
            "justify_content": null,
            "justify_items": null,
            "left": null,
            "margin": null,
            "max_height": null,
            "max_width": null,
            "min_height": null,
            "min_width": null,
            "object_fit": null,
            "object_position": null,
            "order": null,
            "overflow": null,
            "overflow_x": null,
            "overflow_y": null,
            "padding": null,
            "right": null,
            "top": null,
            "visibility": null,
            "width": null
          }
        },
        "086e84044345480b988911b819380019": {
          "model_module": "@jupyter-widgets/controls",
          "model_name": "ProgressStyleModel",
          "model_module_version": "1.5.0",
          "state": {
            "_model_module": "@jupyter-widgets/controls",
            "_model_module_version": "1.5.0",
            "_model_name": "ProgressStyleModel",
            "_view_count": null,
            "_view_module": "@jupyter-widgets/base",
            "_view_module_version": "1.2.0",
            "_view_name": "StyleView",
            "bar_color": null,
            "description_width": ""
          }
        },
        "6a1aae2f3abc44b7b307a75f9f8ee88e": {
          "model_module": "@jupyter-widgets/base",
          "model_name": "LayoutModel",
          "model_module_version": "1.2.0",
          "state": {
            "_model_module": "@jupyter-widgets/base",
            "_model_module_version": "1.2.0",
            "_model_name": "LayoutModel",
            "_view_count": null,
            "_view_module": "@jupyter-widgets/base",
            "_view_module_version": "1.2.0",
            "_view_name": "LayoutView",
            "align_content": null,
            "align_items": null,
            "align_self": null,
            "border": null,
            "bottom": null,
            "display": null,
            "flex": null,
            "flex_flow": null,
            "grid_area": null,
            "grid_auto_columns": null,
            "grid_auto_flow": null,
            "grid_auto_rows": null,
            "grid_column": null,
            "grid_gap": null,
            "grid_row": null,
            "grid_template_areas": null,
            "grid_template_columns": null,
            "grid_template_rows": null,
            "height": null,
            "justify_content": null,
            "justify_items": null,
            "left": null,
            "margin": null,
            "max_height": null,
            "max_width": null,
            "min_height": null,
            "min_width": null,
            "object_fit": null,
            "object_position": null,
            "order": null,
            "overflow": null,
            "overflow_x": null,
            "overflow_y": null,
            "padding": null,
            "right": null,
            "top": null,
            "visibility": null,
            "width": null
          }
        },
        "bebe2cbdcd4f48bb948d886f3c6cc074": {
          "model_module": "@jupyter-widgets/controls",
          "model_name": "DescriptionStyleModel",
          "model_module_version": "1.5.0",
          "state": {
            "_model_module": "@jupyter-widgets/controls",
            "_model_module_version": "1.5.0",
            "_model_name": "DescriptionStyleModel",
            "_view_count": null,
            "_view_module": "@jupyter-widgets/base",
            "_view_module_version": "1.2.0",
            "_view_name": "StyleView",
            "description_width": ""
          }
        },
        "e2711a5af21143fb9c8265d8686467d1": {
          "model_module": "@jupyter-widgets/controls",
          "model_name": "HBoxModel",
          "model_module_version": "1.5.0",
          "state": {
            "_dom_classes": [],
            "_model_module": "@jupyter-widgets/controls",
            "_model_module_version": "1.5.0",
            "_model_name": "HBoxModel",
            "_view_count": null,
            "_view_module": "@jupyter-widgets/controls",
            "_view_module_version": "1.5.0",
            "_view_name": "HBoxView",
            "box_style": "",
            "children": [
              "IPY_MODEL_74064e3eb3c74fc5bd4d9ae65e2d899f",
              "IPY_MODEL_e2273f47de934b178c485e65bc55333d",
              "IPY_MODEL_5a44de43030c4e08b066b66fbb40a3d4"
            ],
            "layout": "IPY_MODEL_b0aedd172bac47a5ba8784024a5674a8"
          }
        },
        "74064e3eb3c74fc5bd4d9ae65e2d899f": {
          "model_module": "@jupyter-widgets/controls",
          "model_name": "HTMLModel",
          "model_module_version": "1.5.0",
          "state": {
            "_dom_classes": [],
            "_model_module": "@jupyter-widgets/controls",
            "_model_module_version": "1.5.0",
            "_model_name": "HTMLModel",
            "_view_count": null,
            "_view_module": "@jupyter-widgets/controls",
            "_view_module_version": "1.5.0",
            "_view_name": "HTMLView",
            "description": "",
            "description_tooltip": null,
            "layout": "IPY_MODEL_6ba26371a58f42e39fb2c6f9b35aaf50",
            "placeholder": "​",
            "style": "IPY_MODEL_2f28838ad7004294b789cbb7ebd8930d",
            "value": "vocab.json: 100%"
          }
        },
        "e2273f47de934b178c485e65bc55333d": {
          "model_module": "@jupyter-widgets/controls",
          "model_name": "FloatProgressModel",
          "model_module_version": "1.5.0",
          "state": {
            "_dom_classes": [],
            "_model_module": "@jupyter-widgets/controls",
            "_model_module_version": "1.5.0",
            "_model_name": "FloatProgressModel",
            "_view_count": null,
            "_view_module": "@jupyter-widgets/controls",
            "_view_module_version": "1.5.0",
            "_view_name": "ProgressView",
            "bar_style": "success",
            "description": "",
            "description_tooltip": null,
            "layout": "IPY_MODEL_201b6a240dd84c759187cd520e7a8c32",
            "max": 898822,
            "min": 0,
            "orientation": "horizontal",
            "style": "IPY_MODEL_c7543dacfbbe4826a0401d0e9102b84b",
            "value": 898822
          }
        },
        "5a44de43030c4e08b066b66fbb40a3d4": {
          "model_module": "@jupyter-widgets/controls",
          "model_name": "HTMLModel",
          "model_module_version": "1.5.0",
          "state": {
            "_dom_classes": [],
            "_model_module": "@jupyter-widgets/controls",
            "_model_module_version": "1.5.0",
            "_model_name": "HTMLModel",
            "_view_count": null,
            "_view_module": "@jupyter-widgets/controls",
            "_view_module_version": "1.5.0",
            "_view_name": "HTMLView",
            "description": "",
            "description_tooltip": null,
            "layout": "IPY_MODEL_12c83c6c26924844812d03aa3ad47fef",
            "placeholder": "​",
            "style": "IPY_MODEL_870846c053b2416e93f441d359620979",
            "value": " 899k/899k [00:00&lt;00:00, 1.72MB/s]"
          }
        },
        "b0aedd172bac47a5ba8784024a5674a8": {
          "model_module": "@jupyter-widgets/base",
          "model_name": "LayoutModel",
          "model_module_version": "1.2.0",
          "state": {
            "_model_module": "@jupyter-widgets/base",
            "_model_module_version": "1.2.0",
            "_model_name": "LayoutModel",
            "_view_count": null,
            "_view_module": "@jupyter-widgets/base",
            "_view_module_version": "1.2.0",
            "_view_name": "LayoutView",
            "align_content": null,
            "align_items": null,
            "align_self": null,
            "border": null,
            "bottom": null,
            "display": null,
            "flex": null,
            "flex_flow": null,
            "grid_area": null,
            "grid_auto_columns": null,
            "grid_auto_flow": null,
            "grid_auto_rows": null,
            "grid_column": null,
            "grid_gap": null,
            "grid_row": null,
            "grid_template_areas": null,
            "grid_template_columns": null,
            "grid_template_rows": null,
            "height": null,
            "justify_content": null,
            "justify_items": null,
            "left": null,
            "margin": null,
            "max_height": null,
            "max_width": null,
            "min_height": null,
            "min_width": null,
            "object_fit": null,
            "object_position": null,
            "order": null,
            "overflow": null,
            "overflow_x": null,
            "overflow_y": null,
            "padding": null,
            "right": null,
            "top": null,
            "visibility": null,
            "width": null
          }
        },
        "6ba26371a58f42e39fb2c6f9b35aaf50": {
          "model_module": "@jupyter-widgets/base",
          "model_name": "LayoutModel",
          "model_module_version": "1.2.0",
          "state": {
            "_model_module": "@jupyter-widgets/base",
            "_model_module_version": "1.2.0",
            "_model_name": "LayoutModel",
            "_view_count": null,
            "_view_module": "@jupyter-widgets/base",
            "_view_module_version": "1.2.0",
            "_view_name": "LayoutView",
            "align_content": null,
            "align_items": null,
            "align_self": null,
            "border": null,
            "bottom": null,
            "display": null,
            "flex": null,
            "flex_flow": null,
            "grid_area": null,
            "grid_auto_columns": null,
            "grid_auto_flow": null,
            "grid_auto_rows": null,
            "grid_column": null,
            "grid_gap": null,
            "grid_row": null,
            "grid_template_areas": null,
            "grid_template_columns": null,
            "grid_template_rows": null,
            "height": null,
            "justify_content": null,
            "justify_items": null,
            "left": null,
            "margin": null,
            "max_height": null,
            "max_width": null,
            "min_height": null,
            "min_width": null,
            "object_fit": null,
            "object_position": null,
            "order": null,
            "overflow": null,
            "overflow_x": null,
            "overflow_y": null,
            "padding": null,
            "right": null,
            "top": null,
            "visibility": null,
            "width": null
          }
        },
        "2f28838ad7004294b789cbb7ebd8930d": {
          "model_module": "@jupyter-widgets/controls",
          "model_name": "DescriptionStyleModel",
          "model_module_version": "1.5.0",
          "state": {
            "_model_module": "@jupyter-widgets/controls",
            "_model_module_version": "1.5.0",
            "_model_name": "DescriptionStyleModel",
            "_view_count": null,
            "_view_module": "@jupyter-widgets/base",
            "_view_module_version": "1.2.0",
            "_view_name": "StyleView",
            "description_width": ""
          }
        },
        "201b6a240dd84c759187cd520e7a8c32": {
          "model_module": "@jupyter-widgets/base",
          "model_name": "LayoutModel",
          "model_module_version": "1.2.0",
          "state": {
            "_model_module": "@jupyter-widgets/base",
            "_model_module_version": "1.2.0",
            "_model_name": "LayoutModel",
            "_view_count": null,
            "_view_module": "@jupyter-widgets/base",
            "_view_module_version": "1.2.0",
            "_view_name": "LayoutView",
            "align_content": null,
            "align_items": null,
            "align_self": null,
            "border": null,
            "bottom": null,
            "display": null,
            "flex": null,
            "flex_flow": null,
            "grid_area": null,
            "grid_auto_columns": null,
            "grid_auto_flow": null,
            "grid_auto_rows": null,
            "grid_column": null,
            "grid_gap": null,
            "grid_row": null,
            "grid_template_areas": null,
            "grid_template_columns": null,
            "grid_template_rows": null,
            "height": null,
            "justify_content": null,
            "justify_items": null,
            "left": null,
            "margin": null,
            "max_height": null,
            "max_width": null,
            "min_height": null,
            "min_width": null,
            "object_fit": null,
            "object_position": null,
            "order": null,
            "overflow": null,
            "overflow_x": null,
            "overflow_y": null,
            "padding": null,
            "right": null,
            "top": null,
            "visibility": null,
            "width": null
          }
        },
        "c7543dacfbbe4826a0401d0e9102b84b": {
          "model_module": "@jupyter-widgets/controls",
          "model_name": "ProgressStyleModel",
          "model_module_version": "1.5.0",
          "state": {
            "_model_module": "@jupyter-widgets/controls",
            "_model_module_version": "1.5.0",
            "_model_name": "ProgressStyleModel",
            "_view_count": null,
            "_view_module": "@jupyter-widgets/base",
            "_view_module_version": "1.2.0",
            "_view_name": "StyleView",
            "bar_color": null,
            "description_width": ""
          }
        },
        "12c83c6c26924844812d03aa3ad47fef": {
          "model_module": "@jupyter-widgets/base",
          "model_name": "LayoutModel",
          "model_module_version": "1.2.0",
          "state": {
            "_model_module": "@jupyter-widgets/base",
            "_model_module_version": "1.2.0",
            "_model_name": "LayoutModel",
            "_view_count": null,
            "_view_module": "@jupyter-widgets/base",
            "_view_module_version": "1.2.0",
            "_view_name": "LayoutView",
            "align_content": null,
            "align_items": null,
            "align_self": null,
            "border": null,
            "bottom": null,
            "display": null,
            "flex": null,
            "flex_flow": null,
            "grid_area": null,
            "grid_auto_columns": null,
            "grid_auto_flow": null,
            "grid_auto_rows": null,
            "grid_column": null,
            "grid_gap": null,
            "grid_row": null,
            "grid_template_areas": null,
            "grid_template_columns": null,
            "grid_template_rows": null,
            "height": null,
            "justify_content": null,
            "justify_items": null,
            "left": null,
            "margin": null,
            "max_height": null,
            "max_width": null,
            "min_height": null,
            "min_width": null,
            "object_fit": null,
            "object_position": null,
            "order": null,
            "overflow": null,
            "overflow_x": null,
            "overflow_y": null,
            "padding": null,
            "right": null,
            "top": null,
            "visibility": null,
            "width": null
          }
        },
        "870846c053b2416e93f441d359620979": {
          "model_module": "@jupyter-widgets/controls",
          "model_name": "DescriptionStyleModel",
          "model_module_version": "1.5.0",
          "state": {
            "_model_module": "@jupyter-widgets/controls",
            "_model_module_version": "1.5.0",
            "_model_name": "DescriptionStyleModel",
            "_view_count": null,
            "_view_module": "@jupyter-widgets/base",
            "_view_module_version": "1.2.0",
            "_view_name": "StyleView",
            "description_width": ""
          }
        },
        "7e0dd8d0e679440399a60bf2a95490cf": {
          "model_module": "@jupyter-widgets/controls",
          "model_name": "HBoxModel",
          "model_module_version": "1.5.0",
          "state": {
            "_dom_classes": [],
            "_model_module": "@jupyter-widgets/controls",
            "_model_module_version": "1.5.0",
            "_model_name": "HBoxModel",
            "_view_count": null,
            "_view_module": "@jupyter-widgets/controls",
            "_view_module_version": "1.5.0",
            "_view_name": "HBoxView",
            "box_style": "",
            "children": [
              "IPY_MODEL_d1b8bec901f24e8384faba8b219047b9",
              "IPY_MODEL_91eeab847d604f56b3b9d3a3d0a37d1b",
              "IPY_MODEL_e1306015f2db49c0a4c5431a3b6a5ee6"
            ],
            "layout": "IPY_MODEL_5507d17dda6d40378a4190ab034278fe"
          }
        },
        "d1b8bec901f24e8384faba8b219047b9": {
          "model_module": "@jupyter-widgets/controls",
          "model_name": "HTMLModel",
          "model_module_version": "1.5.0",
          "state": {
            "_dom_classes": [],
            "_model_module": "@jupyter-widgets/controls",
            "_model_module_version": "1.5.0",
            "_model_name": "HTMLModel",
            "_view_count": null,
            "_view_module": "@jupyter-widgets/controls",
            "_view_module_version": "1.5.0",
            "_view_name": "HTMLView",
            "description": "",
            "description_tooltip": null,
            "layout": "IPY_MODEL_8d73340c0ec64c03a445b936df96df0b",
            "placeholder": "​",
            "style": "IPY_MODEL_6ffd46d035e842c8a665663a98f0c861",
            "value": "merges.txt: 100%"
          }
        },
        "91eeab847d604f56b3b9d3a3d0a37d1b": {
          "model_module": "@jupyter-widgets/controls",
          "model_name": "FloatProgressModel",
          "model_module_version": "1.5.0",
          "state": {
            "_dom_classes": [],
            "_model_module": "@jupyter-widgets/controls",
            "_model_module_version": "1.5.0",
            "_model_name": "FloatProgressModel",
            "_view_count": null,
            "_view_module": "@jupyter-widgets/controls",
            "_view_module_version": "1.5.0",
            "_view_name": "ProgressView",
            "bar_style": "success",
            "description": "",
            "description_tooltip": null,
            "layout": "IPY_MODEL_1447ba5ab50a4f05b3a946f9de5d84fc",
            "max": 456318,
            "min": 0,
            "orientation": "horizontal",
            "style": "IPY_MODEL_1ecc248722a14a2f8af56a85535b3e3a",
            "value": 456318
          }
        },
        "e1306015f2db49c0a4c5431a3b6a5ee6": {
          "model_module": "@jupyter-widgets/controls",
          "model_name": "HTMLModel",
          "model_module_version": "1.5.0",
          "state": {
            "_dom_classes": [],
            "_model_module": "@jupyter-widgets/controls",
            "_model_module_version": "1.5.0",
            "_model_name": "HTMLModel",
            "_view_count": null,
            "_view_module": "@jupyter-widgets/controls",
            "_view_module_version": "1.5.0",
            "_view_name": "HTMLView",
            "description": "",
            "description_tooltip": null,
            "layout": "IPY_MODEL_60c66ceda92b4b8eafc23f036bab3d3f",
            "placeholder": "​",
            "style": "IPY_MODEL_e53995ad5fc24f6ca092027fcbf0ff8c",
            "value": " 456k/456k [00:00&lt;00:00, 17.7MB/s]"
          }
        },
        "5507d17dda6d40378a4190ab034278fe": {
          "model_module": "@jupyter-widgets/base",
          "model_name": "LayoutModel",
          "model_module_version": "1.2.0",
          "state": {
            "_model_module": "@jupyter-widgets/base",
            "_model_module_version": "1.2.0",
            "_model_name": "LayoutModel",
            "_view_count": null,
            "_view_module": "@jupyter-widgets/base",
            "_view_module_version": "1.2.0",
            "_view_name": "LayoutView",
            "align_content": null,
            "align_items": null,
            "align_self": null,
            "border": null,
            "bottom": null,
            "display": null,
            "flex": null,
            "flex_flow": null,
            "grid_area": null,
            "grid_auto_columns": null,
            "grid_auto_flow": null,
            "grid_auto_rows": null,
            "grid_column": null,
            "grid_gap": null,
            "grid_row": null,
            "grid_template_areas": null,
            "grid_template_columns": null,
            "grid_template_rows": null,
            "height": null,
            "justify_content": null,
            "justify_items": null,
            "left": null,
            "margin": null,
            "max_height": null,
            "max_width": null,
            "min_height": null,
            "min_width": null,
            "object_fit": null,
            "object_position": null,
            "order": null,
            "overflow": null,
            "overflow_x": null,
            "overflow_y": null,
            "padding": null,
            "right": null,
            "top": null,
            "visibility": null,
            "width": null
          }
        },
        "8d73340c0ec64c03a445b936df96df0b": {
          "model_module": "@jupyter-widgets/base",
          "model_name": "LayoutModel",
          "model_module_version": "1.2.0",
          "state": {
            "_model_module": "@jupyter-widgets/base",
            "_model_module_version": "1.2.0",
            "_model_name": "LayoutModel",
            "_view_count": null,
            "_view_module": "@jupyter-widgets/base",
            "_view_module_version": "1.2.0",
            "_view_name": "LayoutView",
            "align_content": null,
            "align_items": null,
            "align_self": null,
            "border": null,
            "bottom": null,
            "display": null,
            "flex": null,
            "flex_flow": null,
            "grid_area": null,
            "grid_auto_columns": null,
            "grid_auto_flow": null,
            "grid_auto_rows": null,
            "grid_column": null,
            "grid_gap": null,
            "grid_row": null,
            "grid_template_areas": null,
            "grid_template_columns": null,
            "grid_template_rows": null,
            "height": null,
            "justify_content": null,
            "justify_items": null,
            "left": null,
            "margin": null,
            "max_height": null,
            "max_width": null,
            "min_height": null,
            "min_width": null,
            "object_fit": null,
            "object_position": null,
            "order": null,
            "overflow": null,
            "overflow_x": null,
            "overflow_y": null,
            "padding": null,
            "right": null,
            "top": null,
            "visibility": null,
            "width": null
          }
        },
        "6ffd46d035e842c8a665663a98f0c861": {
          "model_module": "@jupyter-widgets/controls",
          "model_name": "DescriptionStyleModel",
          "model_module_version": "1.5.0",
          "state": {
            "_model_module": "@jupyter-widgets/controls",
            "_model_module_version": "1.5.0",
            "_model_name": "DescriptionStyleModel",
            "_view_count": null,
            "_view_module": "@jupyter-widgets/base",
            "_view_module_version": "1.2.0",
            "_view_name": "StyleView",
            "description_width": ""
          }
        },
        "1447ba5ab50a4f05b3a946f9de5d84fc": {
          "model_module": "@jupyter-widgets/base",
          "model_name": "LayoutModel",
          "model_module_version": "1.2.0",
          "state": {
            "_model_module": "@jupyter-widgets/base",
            "_model_module_version": "1.2.0",
            "_model_name": "LayoutModel",
            "_view_count": null,
            "_view_module": "@jupyter-widgets/base",
            "_view_module_version": "1.2.0",
            "_view_name": "LayoutView",
            "align_content": null,
            "align_items": null,
            "align_self": null,
            "border": null,
            "bottom": null,
            "display": null,
            "flex": null,
            "flex_flow": null,
            "grid_area": null,
            "grid_auto_columns": null,
            "grid_auto_flow": null,
            "grid_auto_rows": null,
            "grid_column": null,
            "grid_gap": null,
            "grid_row": null,
            "grid_template_areas": null,
            "grid_template_columns": null,
            "grid_template_rows": null,
            "height": null,
            "justify_content": null,
            "justify_items": null,
            "left": null,
            "margin": null,
            "max_height": null,
            "max_width": null,
            "min_height": null,
            "min_width": null,
            "object_fit": null,
            "object_position": null,
            "order": null,
            "overflow": null,
            "overflow_x": null,
            "overflow_y": null,
            "padding": null,
            "right": null,
            "top": null,
            "visibility": null,
            "width": null
          }
        },
        "1ecc248722a14a2f8af56a85535b3e3a": {
          "model_module": "@jupyter-widgets/controls",
          "model_name": "ProgressStyleModel",
          "model_module_version": "1.5.0",
          "state": {
            "_model_module": "@jupyter-widgets/controls",
            "_model_module_version": "1.5.0",
            "_model_name": "ProgressStyleModel",
            "_view_count": null,
            "_view_module": "@jupyter-widgets/base",
            "_view_module_version": "1.2.0",
            "_view_name": "StyleView",
            "bar_color": null,
            "description_width": ""
          }
        },
        "60c66ceda92b4b8eafc23f036bab3d3f": {
          "model_module": "@jupyter-widgets/base",
          "model_name": "LayoutModel",
          "model_module_version": "1.2.0",
          "state": {
            "_model_module": "@jupyter-widgets/base",
            "_model_module_version": "1.2.0",
            "_model_name": "LayoutModel",
            "_view_count": null,
            "_view_module": "@jupyter-widgets/base",
            "_view_module_version": "1.2.0",
            "_view_name": "LayoutView",
            "align_content": null,
            "align_items": null,
            "align_self": null,
            "border": null,
            "bottom": null,
            "display": null,
            "flex": null,
            "flex_flow": null,
            "grid_area": null,
            "grid_auto_columns": null,
            "grid_auto_flow": null,
            "grid_auto_rows": null,
            "grid_column": null,
            "grid_gap": null,
            "grid_row": null,
            "grid_template_areas": null,
            "grid_template_columns": null,
            "grid_template_rows": null,
            "height": null,
            "justify_content": null,
            "justify_items": null,
            "left": null,
            "margin": null,
            "max_height": null,
            "max_width": null,
            "min_height": null,
            "min_width": null,
            "object_fit": null,
            "object_position": null,
            "order": null,
            "overflow": null,
            "overflow_x": null,
            "overflow_y": null,
            "padding": null,
            "right": null,
            "top": null,
            "visibility": null,
            "width": null
          }
        },
        "e53995ad5fc24f6ca092027fcbf0ff8c": {
          "model_module": "@jupyter-widgets/controls",
          "model_name": "DescriptionStyleModel",
          "model_module_version": "1.5.0",
          "state": {
            "_model_module": "@jupyter-widgets/controls",
            "_model_module_version": "1.5.0",
            "_model_name": "DescriptionStyleModel",
            "_view_count": null,
            "_view_module": "@jupyter-widgets/base",
            "_view_module_version": "1.2.0",
            "_view_name": "StyleView",
            "description_width": ""
          }
        },
        "5148bec68a1346d6bab2630deb069e2d": {
          "model_module": "@jupyter-widgets/controls",
          "model_name": "HBoxModel",
          "model_module_version": "1.5.0",
          "state": {
            "_dom_classes": [],
            "_model_module": "@jupyter-widgets/controls",
            "_model_module_version": "1.5.0",
            "_model_name": "HBoxModel",
            "_view_count": null,
            "_view_module": "@jupyter-widgets/controls",
            "_view_module_version": "1.5.0",
            "_view_name": "HBoxView",
            "box_style": "",
            "children": [
              "IPY_MODEL_c5c724d822c04f03ac325a46ffbd1749",
              "IPY_MODEL_f7a83fb9234c4b05930280ef812bf1dd",
              "IPY_MODEL_3d16c81727ee4cb4a057c9c3fd56ced6"
            ],
            "layout": "IPY_MODEL_f2ddfabe9aeb4e43974a1b58a1df0662"
          }
        },
        "c5c724d822c04f03ac325a46ffbd1749": {
          "model_module": "@jupyter-widgets/controls",
          "model_name": "HTMLModel",
          "model_module_version": "1.5.0",
          "state": {
            "_dom_classes": [],
            "_model_module": "@jupyter-widgets/controls",
            "_model_module_version": "1.5.0",
            "_model_name": "HTMLModel",
            "_view_count": null,
            "_view_module": "@jupyter-widgets/controls",
            "_view_module_version": "1.5.0",
            "_view_name": "HTMLView",
            "description": "",
            "description_tooltip": null,
            "layout": "IPY_MODEL_334ba414447640c7853460b11b1e67d1",
            "placeholder": "​",
            "style": "IPY_MODEL_ebb0ae581cf647abb46663ae119cab38",
            "value": "tokenizer.json: 100%"
          }
        },
        "f7a83fb9234c4b05930280ef812bf1dd": {
          "model_module": "@jupyter-widgets/controls",
          "model_name": "FloatProgressModel",
          "model_module_version": "1.5.0",
          "state": {
            "_dom_classes": [],
            "_model_module": "@jupyter-widgets/controls",
            "_model_module_version": "1.5.0",
            "_model_name": "FloatProgressModel",
            "_view_count": null,
            "_view_module": "@jupyter-widgets/controls",
            "_view_module_version": "1.5.0",
            "_view_name": "ProgressView",
            "bar_style": "success",
            "description": "",
            "description_tooltip": null,
            "layout": "IPY_MODEL_436130933b9c4388b101fba3c2d08a24",
            "max": 1355863,
            "min": 0,
            "orientation": "horizontal",
            "style": "IPY_MODEL_8c4881cd623a4d0489b0dc51ffb4d018",
            "value": 1355863
          }
        },
        "3d16c81727ee4cb4a057c9c3fd56ced6": {
          "model_module": "@jupyter-widgets/controls",
          "model_name": "HTMLModel",
          "model_module_version": "1.5.0",
          "state": {
            "_dom_classes": [],
            "_model_module": "@jupyter-widgets/controls",
            "_model_module_version": "1.5.0",
            "_model_name": "HTMLModel",
            "_view_count": null,
            "_view_module": "@jupyter-widgets/controls",
            "_view_module_version": "1.5.0",
            "_view_name": "HTMLView",
            "description": "",
            "description_tooltip": null,
            "layout": "IPY_MODEL_b2a35b3b3f424f65af92e3f9455d25a6",
            "placeholder": "​",
            "style": "IPY_MODEL_4c8afe7302054603b07a48d3eb47f6ee",
            "value": " 1.36M/1.36M [00:00&lt;00:00, 1.93MB/s]"
          }
        },
        "f2ddfabe9aeb4e43974a1b58a1df0662": {
          "model_module": "@jupyter-widgets/base",
          "model_name": "LayoutModel",
          "model_module_version": "1.2.0",
          "state": {
            "_model_module": "@jupyter-widgets/base",
            "_model_module_version": "1.2.0",
            "_model_name": "LayoutModel",
            "_view_count": null,
            "_view_module": "@jupyter-widgets/base",
            "_view_module_version": "1.2.0",
            "_view_name": "LayoutView",
            "align_content": null,
            "align_items": null,
            "align_self": null,
            "border": null,
            "bottom": null,
            "display": null,
            "flex": null,
            "flex_flow": null,
            "grid_area": null,
            "grid_auto_columns": null,
            "grid_auto_flow": null,
            "grid_auto_rows": null,
            "grid_column": null,
            "grid_gap": null,
            "grid_row": null,
            "grid_template_areas": null,
            "grid_template_columns": null,
            "grid_template_rows": null,
            "height": null,
            "justify_content": null,
            "justify_items": null,
            "left": null,
            "margin": null,
            "max_height": null,
            "max_width": null,
            "min_height": null,
            "min_width": null,
            "object_fit": null,
            "object_position": null,
            "order": null,
            "overflow": null,
            "overflow_x": null,
            "overflow_y": null,
            "padding": null,
            "right": null,
            "top": null,
            "visibility": null,
            "width": null
          }
        },
        "334ba414447640c7853460b11b1e67d1": {
          "model_module": "@jupyter-widgets/base",
          "model_name": "LayoutModel",
          "model_module_version": "1.2.0",
          "state": {
            "_model_module": "@jupyter-widgets/base",
            "_model_module_version": "1.2.0",
            "_model_name": "LayoutModel",
            "_view_count": null,
            "_view_module": "@jupyter-widgets/base",
            "_view_module_version": "1.2.0",
            "_view_name": "LayoutView",
            "align_content": null,
            "align_items": null,
            "align_self": null,
            "border": null,
            "bottom": null,
            "display": null,
            "flex": null,
            "flex_flow": null,
            "grid_area": null,
            "grid_auto_columns": null,
            "grid_auto_flow": null,
            "grid_auto_rows": null,
            "grid_column": null,
            "grid_gap": null,
            "grid_row": null,
            "grid_template_areas": null,
            "grid_template_columns": null,
            "grid_template_rows": null,
            "height": null,
            "justify_content": null,
            "justify_items": null,
            "left": null,
            "margin": null,
            "max_height": null,
            "max_width": null,
            "min_height": null,
            "min_width": null,
            "object_fit": null,
            "object_position": null,
            "order": null,
            "overflow": null,
            "overflow_x": null,
            "overflow_y": null,
            "padding": null,
            "right": null,
            "top": null,
            "visibility": null,
            "width": null
          }
        },
        "ebb0ae581cf647abb46663ae119cab38": {
          "model_module": "@jupyter-widgets/controls",
          "model_name": "DescriptionStyleModel",
          "model_module_version": "1.5.0",
          "state": {
            "_model_module": "@jupyter-widgets/controls",
            "_model_module_version": "1.5.0",
            "_model_name": "DescriptionStyleModel",
            "_view_count": null,
            "_view_module": "@jupyter-widgets/base",
            "_view_module_version": "1.2.0",
            "_view_name": "StyleView",
            "description_width": ""
          }
        },
        "436130933b9c4388b101fba3c2d08a24": {
          "model_module": "@jupyter-widgets/base",
          "model_name": "LayoutModel",
          "model_module_version": "1.2.0",
          "state": {
            "_model_module": "@jupyter-widgets/base",
            "_model_module_version": "1.2.0",
            "_model_name": "LayoutModel",
            "_view_count": null,
            "_view_module": "@jupyter-widgets/base",
            "_view_module_version": "1.2.0",
            "_view_name": "LayoutView",
            "align_content": null,
            "align_items": null,
            "align_self": null,
            "border": null,
            "bottom": null,
            "display": null,
            "flex": null,
            "flex_flow": null,
            "grid_area": null,
            "grid_auto_columns": null,
            "grid_auto_flow": null,
            "grid_auto_rows": null,
            "grid_column": null,
            "grid_gap": null,
            "grid_row": null,
            "grid_template_areas": null,
            "grid_template_columns": null,
            "grid_template_rows": null,
            "height": null,
            "justify_content": null,
            "justify_items": null,
            "left": null,
            "margin": null,
            "max_height": null,
            "max_width": null,
            "min_height": null,
            "min_width": null,
            "object_fit": null,
            "object_position": null,
            "order": null,
            "overflow": null,
            "overflow_x": null,
            "overflow_y": null,
            "padding": null,
            "right": null,
            "top": null,
            "visibility": null,
            "width": null
          }
        },
        "8c4881cd623a4d0489b0dc51ffb4d018": {
          "model_module": "@jupyter-widgets/controls",
          "model_name": "ProgressStyleModel",
          "model_module_version": "1.5.0",
          "state": {
            "_model_module": "@jupyter-widgets/controls",
            "_model_module_version": "1.5.0",
            "_model_name": "ProgressStyleModel",
            "_view_count": null,
            "_view_module": "@jupyter-widgets/base",
            "_view_module_version": "1.2.0",
            "_view_name": "StyleView",
            "bar_color": null,
            "description_width": ""
          }
        },
        "b2a35b3b3f424f65af92e3f9455d25a6": {
          "model_module": "@jupyter-widgets/base",
          "model_name": "LayoutModel",
          "model_module_version": "1.2.0",
          "state": {
            "_model_module": "@jupyter-widgets/base",
            "_model_module_version": "1.2.0",
            "_model_name": "LayoutModel",
            "_view_count": null,
            "_view_module": "@jupyter-widgets/base",
            "_view_module_version": "1.2.0",
            "_view_name": "LayoutView",
            "align_content": null,
            "align_items": null,
            "align_self": null,
            "border": null,
            "bottom": null,
            "display": null,
            "flex": null,
            "flex_flow": null,
            "grid_area": null,
            "grid_auto_columns": null,
            "grid_auto_flow": null,
            "grid_auto_rows": null,
            "grid_column": null,
            "grid_gap": null,
            "grid_row": null,
            "grid_template_areas": null,
            "grid_template_columns": null,
            "grid_template_rows": null,
            "height": null,
            "justify_content": null,
            "justify_items": null,
            "left": null,
            "margin": null,
            "max_height": null,
            "max_width": null,
            "min_height": null,
            "min_width": null,
            "object_fit": null,
            "object_position": null,
            "order": null,
            "overflow": null,
            "overflow_x": null,
            "overflow_y": null,
            "padding": null,
            "right": null,
            "top": null,
            "visibility": null,
            "width": null
          }
        },
        "4c8afe7302054603b07a48d3eb47f6ee": {
          "model_module": "@jupyter-widgets/controls",
          "model_name": "DescriptionStyleModel",
          "model_module_version": "1.5.0",
          "state": {
            "_model_module": "@jupyter-widgets/controls",
            "_model_module_version": "1.5.0",
            "_model_name": "DescriptionStyleModel",
            "_view_count": null,
            "_view_module": "@jupyter-widgets/base",
            "_view_module_version": "1.2.0",
            "_view_name": "StyleView",
            "description_width": ""
          }
        }
      }
    }
  },
  "nbformat": 4,
  "nbformat_minor": 0
}